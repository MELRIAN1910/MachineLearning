{
  "nbformat": 4,
  "nbformat_minor": 0,
  "metadata": {
    "colab": {
      "provenance": [],
      "authorship_tag": "ABX9TyNGo8qZDkW0xKQzjNkiF4gH",
      "include_colab_link": true
    },
    "kernelspec": {
      "name": "python3",
      "display_name": "Python 3"
    },
    "language_info": {
      "name": "python"
    }
  },
  "cells": [
    {
      "cell_type": "markdown",
      "metadata": {
        "id": "view-in-github",
        "colab_type": "text"
      },
      "source": [
        "<a href=\"https://colab.research.google.com/github/MELRIAN1910/MachineLearning/blob/main/ML%20Model%20Optimization/Cross_Validation.ipynb\" target=\"_parent\"><img src=\"https://colab.research.google.com/assets/colab-badge.svg\" alt=\"Open In Colab\"/></a>"
      ]
    },
    {
      "cell_type": "markdown",
      "source": [
        "# Cross validation"
      ],
      "metadata": {
        "id": "_vgM4Hx08eA8"
      }
    },
    {
      "cell_type": "code",
      "execution_count": null,
      "metadata": {
        "id": "rLvBcNYQ5LH6"
      },
      "outputs": [],
      "source": [
        "# import dependencies\n",
        "import numpy as np\n",
        "import pandas as pd\n",
        "from sklearn.model_selection import train_test_split\n",
        "from sklearn.model_selection import cross_val_score\n",
        "from sklearn.metrics import accuracy_score\n",
        "from sklearn.linear_model import LogisticRegression\n",
        "from sklearn.neighbors import KNeighborsClassifier\n",
        "from sklearn.svm import SVC\n",
        "from sklearn.ensemble import RandomForestClassifier\n",
        "\n",
        "#data pre-processing\n",
        "heart_data = pd.read_csv('path')\n",
        "heart_data.head()\n",
        "heart_data.shape\n",
        "heart_data.isnull().sum()\n",
        "heart_data.['target'].value_counts()\n",
        "X = heart_data.drop(columns='target', axis=1)\n",
        "Y = heart_data['target']\n",
        "print(x)\n",
        "print(y)\n",
        "\n",
        "#train test spli\n",
        "X_train, X_test, Y_train, Y_test = train_test_split(X, Y, test_size=0.2, stratify=Y, random_state=3)\n",
        "print(X.shape, X_train.shape, X_test.shape)\n",
        "\n",
        "#comparing performance model\n",
        "models = [LogisticRegression(max_iter=1000), KNeighborsClassifier(), SVC(kernel='linear'), RandomForestClassifier()]\n",
        "def compare_models_train_test():\n",
        "    for model in models:\n",
        "        model.fit(X_train, Y_train)\n",
        "        #evaluating the model\n",
        "        test_data_prediction = model.predict(X_test)\n",
        "        accuracy = accuracy_score(Y_test, test_data_prediction)\n",
        "        print('Accuracy score of the ', model, ' = ', accuracy)\n",
        "compare_models_train_test()\n",
        "\n",
        "#cross validation\n",
        "#Logistic regression\n",
        "cv_score_lr = cross_val_score(LogisticRegression(max_iter=1000), X, Y, cv=5)\n",
        "print(cv_score_lr)\n",
        "mean_accuracy_lr = sum(cv_score_lr)/len(cv_score_lr)\n",
        "mean_accuracy_lr = mean_accuracy_lr*100\n",
        "mean_accuracy_lr = round(mean_accuracy_lr, 2)\n",
        "print(mean_accuracy_lr)\n",
        "\n",
        "#SVC\n",
        "cv_score_svc = cross_val_score(SVC(kernel='linear'), X, Y, cv=5)\n",
        "print(cv_score_svc)\n",
        "mean_accuracy_svc = sum(cv_score_svc)/len(cv_score_svc)\n",
        "mean_accuracy_svc = mean_accuracy_svc*100\n",
        "mean_accuracy_svc = round(mean_accuracy_svc, 2)\n",
        "print(mean_accuracy_svc)\n",
        "\n",
        "#KNeighbours\n",
        "cv_score_knn = cross_val_score(KNeighborsClassifier(), X, Y, cv=5)\n",
        "print(cv_score_knn)\n",
        "mean_accuracy_knn = sum(cv_score_knn)/len(cv_score_knn)\n",
        "mean_accuracy_knn = mean_accuracy_knn*100\n",
        "mean_accuracy_knn = round(mean_accuracy_knn, 2)\n",
        "print(mean_accuracy_knn)\n",
        "\n",
        "#random forest\n",
        "cv_score_rf = cross_val_score(RandomForestClassifier(n_estimators=100), X, Y, cv=5)\n",
        "print(cv_score_rf)\n",
        "mean_accuracy_rf = sum(cv_score_rf)/len(cv_score_rf)\n",
        "mean_accuracy_rf = mean_accuracy_rf*100\n",
        "mean_accuracy_rf = round(mean_accuracy_rf, 2)\n",
        "print(mean_accuracy_rf)\n",
        "\n",
        "#compare all models function\n",
        "models = [LogisticRegression(max_iter=1000), SVC(kernel='linear'), KNeighborsClassifier(), RandomForestClassifier(n_estimators=100)]\n",
        "def compare_models_cross_validation():\n",
        "    for model in models:\n",
        "        cv_score = cross_val_score(model, X, Y, cv=5)\n",
        "        mean_accuracy = sum(cv_score)/len(cv_score)\n",
        "        mean_accuracy = mean_accuracy*100\n",
        "        mean_accuracy = round(mean_accuracy, 2)\n",
        "\n",
        "        print('Cross Validation accuracies for the ', model, ' = ', cv_score)\n",
        "        print('Accuracy % of the ', model, mean_accuracy)\n",
        "\n",
        "        print('-----------------------------------------------------------------------------------------------')\n",
        "\n",
        "compoare_models_cross_validation()"
      ]
    }
  ]
}