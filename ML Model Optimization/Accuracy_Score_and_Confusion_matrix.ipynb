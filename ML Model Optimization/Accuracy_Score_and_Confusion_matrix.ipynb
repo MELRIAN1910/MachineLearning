{
  "nbformat": 4,
  "nbformat_minor": 0,
  "metadata": {
    "colab": {
      "provenance": [],
      "authorship_tag": "ABX9TyOqu+gJhvpY5FfsjjsVZds1",
      "include_colab_link": true
    },
    "kernelspec": {
      "name": "python3",
      "display_name": "Python 3"
    },
    "language_info": {
      "name": "python"
    }
  },
  "cells": [
    {
      "cell_type": "markdown",
      "metadata": {
        "id": "view-in-github",
        "colab_type": "text"
      },
      "source": [
        "<a href=\"https://colab.research.google.com/github/MELRIAN1910/MachineLearning/blob/main/ML%20Model%20Optimization/Accuracy_Score_and_Confusion_matrix.ipynb\" target=\"_parent\"><img src=\"https://colab.research.google.com/assets/colab-badge.svg\" alt=\"Open In Colab\"/></a>"
      ]
    },
    {
      "cell_type": "code",
      "execution_count": null,
      "metadata": {
        "id": "Nd_4yBkNke-E"
      },
      "outputs": [],
      "source": [
        "#importing dependencies\n",
        "import numpy as np\n",
        "import pandas as pd\n",
        "from sklearn.model_selection import train_test_split\n",
        "from sklearn.linear_model import LogisticRegression\n",
        "\n",
        "#data collection and processing\n",
        "#loading data\n",
        "heart_data = pd.read_csv('heart_disease_data.csv')\n",
        "\n",
        "#print first 5 rows of dataset\n",
        "heart_data.head()\n",
        "\n",
        "# print last 5 rows of the dataset\n",
        "heart_data.tail()\n",
        "\n",
        "# number of rows and columns in the dataset\n",
        "heart_data.shape\n",
        "\n",
        "# getting some info about the data\n",
        "heart_data.info()\n",
        "\n",
        "# checking for missing values\n",
        "heart_data.isnull().sum()\n",
        "\n",
        "# statistical measures about the data\n",
        "heart_data.describe()\n",
        "\n",
        "# checking the distribution of Target Variable\n",
        "heart_data['target'].value_counts()\n",
        "\n",
        "X = heart_data.drop(columns='target', axis=1)\n",
        "Y = heart_data['target']\n",
        "print(X)\n",
        "print(Y)\n",
        "\n",
        "#Splitting data\n",
        "X_train, X_test, Y_train, Y_test = train_test_split(X, Y, test_size=0.2, stratify=Y, random_state=2)\n",
        "print(X.shape, X_train.shape, X_test.shape)\n",
        "\n",
        "#Model Training\n",
        "#Logistic Regression\n",
        "model = LogisticRegression(max_iter=1000)\n",
        "\n",
        "# training the LogisticRegression model with Training data\n",
        "model.fit(X_train, Y_train)\n",
        "\n"
      ]
    },
    {
      "cell_type": "markdown",
      "source": [
        "#model evaluation\n"
      ],
      "metadata": {
        "id": "Nite337WqSbs"
      }
    },
    {
      "cell_type": "markdown",
      "source": [
        "##Accuracy score\n"
      ],
      "metadata": {
        "id": "3UwbRVD0qWMk"
      }
    },
    {
      "cell_type": "code",
      "source": [
        "from sklearn.metrics import accuracy_score\n",
        "\n",
        "# accuracy on training data\n",
        "X_train_prediction = model.predict(X_train)\n",
        "training_data_accuracy = accuracy_score(Y_train, X_train_prediction)\n",
        "print(training_data_accuracy)\n",
        "\n",
        "print('Accuracy on Training data : ', round(training_data_accuracy*100,2), '%')\n",
        "\n",
        "# accuracy on test data\n",
        "X_test_prediction = model.predict(X_test)\n",
        "test_data_accuracy = accuracy_score(Y_test, X_test_prediction)\n",
        "print(test_data_accuracy)\n",
        "\n",
        "print('Accuracy on Test data : ', round(test_data_accuracy*100, 2), '%')"
      ],
      "metadata": {
        "id": "MVzmym-FqZED"
      },
      "execution_count": null,
      "outputs": []
    },
    {
      "cell_type": "markdown",
      "source": [
        "## Confusion Metrics"
      ],
      "metadata": {
        "id": "OI0dCkwjq5eR"
      }
    },
    {
      "cell_type": "code",
      "source": [
        "from sklearn.metrics import confusion_matrix\n",
        "\n",
        "cf_matrix = confusion_matrix(Y_test, X_test_prediction)\n",
        "print(cf_matrix)\n",
        "\n",
        "tn, fp, fn, tp = cf_matrix.ravel()\n",
        "print(tn, fp, fn, tp)\n",
        "\n",
        "import seaborn as sns\n",
        "sns.heatmap(cf_matrix, annot=True)"
      ],
      "metadata": {
        "id": "bppInXt-q_zU"
      },
      "execution_count": null,
      "outputs": []
    }
  ]
}