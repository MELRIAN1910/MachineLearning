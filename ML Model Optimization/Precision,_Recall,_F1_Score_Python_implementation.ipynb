{
  "nbformat": 4,
  "nbformat_minor": 0,
  "metadata": {
    "colab": {
      "provenance": [],
      "collapsed_sections": [
        "3UwbRVD0qWMk",
        "Oz8cKxFWvead",
        "wRli0hQzvzgY",
        "enOnk9GKwFmy",
        "EnY9KPxMwk1m"
      ],
      "authorship_tag": "ABX9TyMJ41iTDykoiAjyef/k3SSk",
      "include_colab_link": true
    },
    "kernelspec": {
      "name": "python3",
      "display_name": "Python 3"
    },
    "language_info": {
      "name": "python"
    }
  },
  "cells": [
    {
      "cell_type": "markdown",
      "metadata": {
        "id": "view-in-github",
        "colab_type": "text"
      },
      "source": [
        "<a href=\"https://colab.research.google.com/github/MELRIAN1910/MachineLearning/blob/main/ML%20Model%20Optimization/Precision%2C_Recall%2C_F1_Score_Python_implementation.ipynb\" target=\"_parent\"><img src=\"https://colab.research.google.com/assets/colab-badge.svg\" alt=\"Open In Colab\"/></a>"
      ]
    },
    {
      "cell_type": "code",
      "execution_count": null,
      "metadata": {
        "id": "vdiFMYR7rthK"
      },
      "outputs": [],
      "source": [
        "#importing the dependencies\n",
        "import numpy as np\n",
        "import pandas as pd\n",
        "from sklearn.model_selection import train_test_split\n",
        "from sklearn.linear_model import LogisticRegression\n",
        "\n",
        "#data collection and processing\n",
        "heart_data = pd.read_csv('heart_disease_data.csv')\n",
        "\n",
        "#print first 5 rows of the dataset\n",
        "heart_data.head()\n",
        "\n",
        "# print last 5 rows of the dataset\n",
        "heart_data.tail()\n",
        "\n",
        "# number of rows and columns in the dataset\n",
        "heart_data.shape\n",
        "\n",
        "# getting some info about the data\n",
        "heart_data.info()\n",
        "\n",
        "# checking for missing values\n",
        "heart_data.isnull().sum()\n",
        "\n",
        "# statistical measures about the data\n",
        "heart_data.describe()\n",
        "\n",
        "# checking the distribution of Target Variable\n",
        "heart_data['target'].value_counts()\n",
        "\n",
        "#Splitting the Features and Target\n",
        "X = heart_data.drop(columns='target', axis=1)\n",
        "Y = heart_data['target']\n",
        "print(X)\n",
        "print(Y)\n",
        "\n",
        "#Splitting the Data into Training data & Test Data\n",
        "X_train, X_test, Y_train, Y_test = train_test_split(X, Y, test_size=0.2, stratify=Y, random_state=2)\n",
        "print(X.shape, X_train.shape, X_test.shape)\n",
        "\n",
        "#Model Training\n",
        "#Logistic Regression\n",
        "model = LogisticRegression(max_iter=1000)\n",
        "\n",
        "# training the LogisticRegression model with Training data\n",
        "model.fit(X_train, Y_train)"
      ]
    },
    {
      "cell_type": "markdown",
      "source": [
        "#model evaluation\n"
      ],
      "metadata": {
        "id": "Nite337WqSbs"
      }
    },
    {
      "cell_type": "markdown",
      "source": [
        "##Accuracy score\n"
      ],
      "metadata": {
        "id": "3UwbRVD0qWMk"
      }
    },
    {
      "cell_type": "code",
      "source": [
        "from sklearn.metrics import accuracy_score\n",
        "\n",
        "# accuracy on training data\n",
        "X_train_prediction = model.predict(X_train)\n",
        "training_data_accuracy = accuracy_score(Y_train, X_train_prediction)\n",
        "print(training_data_accuracy)\n",
        "\n",
        "print('Accuracy on Training data : ', round(training_data_accuracy*100,2), '%')\n",
        "\n",
        "# accuracy on test data\n",
        "X_test_prediction = model.predict(X_test)\n",
        "test_data_accuracy = accuracy_score(Y_test, X_test_prediction)\n",
        "print(test_data_accuracy)\n",
        "\n",
        "print('Accuracy on Test data : ', round(test_data_accuracy*100, 2), '%')"
      ],
      "metadata": {
        "id": "MVzmym-FqZED"
      },
      "execution_count": null,
      "outputs": []
    },
    {
      "cell_type": "markdown",
      "source": [
        "## Precision"
      ],
      "metadata": {
        "id": "Oz8cKxFWvead"
      }
    },
    {
      "cell_type": "code",
      "source": [
        "from sklearn.metrics import precision_score\n",
        "\n",
        "# precision for training data predictions\n",
        "precision_train = precision_score(Y_train, X_train_prediction)\n",
        "print('Training data Precision =', precision_train)\n",
        "\n",
        "# precision for test data predictions\n",
        "precision_test = precision_score(Y_test, X_test_prediction)\n",
        "print('Test data Precision =', precision_test)"
      ],
      "metadata": {
        "id": "JwdGE9cKvi53"
      },
      "execution_count": null,
      "outputs": []
    },
    {
      "cell_type": "markdown",
      "source": [
        "## Recall"
      ],
      "metadata": {
        "id": "wRli0hQzvzgY"
      }
    },
    {
      "cell_type": "code",
      "source": [
        "from sklearn.metrics import recall_score\n",
        "\n",
        "# recall for training data predictions\n",
        "recall_train = recall_score(Y_train, X_train_prediction)\n",
        "print('Training data Recall =', recall_train)\n",
        "\n",
        "# recall for test data predictions\n",
        "recall_test = recall_score(Y_test, X_test_prediction)\n",
        "print('Test data Recall =', recall_test)"
      ],
      "metadata": {
        "id": "B5r84j_qv2T7"
      },
      "execution_count": null,
      "outputs": []
    },
    {
      "cell_type": "markdown",
      "source": [
        "## F1 Score"
      ],
      "metadata": {
        "id": "enOnk9GKwFmy"
      }
    },
    {
      "cell_type": "code",
      "source": [
        "from sklearn.metrics import f1_score\n",
        "\n",
        "# f1 score for training data predictions\n",
        "f1_train = f1_score(Y_train, X_train_prediction)\n",
        "print('Training data F1 Score =', f1_train)\n",
        "\n",
        "# F1 Score for test data predictions\n",
        "f1_score_test = recall_score(Y_test, X_test_prediction)\n",
        "print('Test data F1 Score =', f1_score_test)"
      ],
      "metadata": {
        "id": "L9wuloZPwLjI"
      },
      "execution_count": null,
      "outputs": []
    },
    {
      "cell_type": "markdown",
      "source": [
        "## Precision, Recall, & F1 Score - function"
      ],
      "metadata": {
        "id": "EnY9KPxMwk1m"
      }
    },
    {
      "cell_type": "code",
      "source": [
        "def precision_recall_f1_score(true_labels, pred_labels):\n",
        "\n",
        "  precision_value = precision_score(true_labels, pred_labels)\n",
        "  recall_value = recall_score(true_labels, pred_labels)\n",
        "  f1_score_value = f1_score(true_labels, pred_labels)\n",
        "\n",
        "  print('Precision =',precision_value)\n",
        "  print('Recall =',recall_value)\n",
        "  print('F1 Score =',f1_score_value)\n",
        "\n",
        "# classification metrics for training data\n",
        "precision_recall_f1_score(Y_train, X_train_prediction)\n",
        "\n",
        "# classification metrics for test data\n",
        "precision_recall_f1_score(Y_test, X_test_prediction)"
      ],
      "metadata": {
        "id": "wI6FWZ-SwsPv"
      },
      "execution_count": null,
      "outputs": []
    }
  ]
}