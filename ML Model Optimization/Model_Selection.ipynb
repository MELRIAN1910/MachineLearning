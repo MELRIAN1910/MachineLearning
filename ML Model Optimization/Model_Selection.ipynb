{
  "nbformat": 4,
  "nbformat_minor": 0,
  "metadata": {
    "colab": {
      "provenance": [],
      "collapsed_sections": [
        "8Sd39RojijKC"
      ],
      "authorship_tag": "ABX9TyNHPs4BBs9KNOPLQiV0otXb",
      "include_colab_link": true
    },
    "kernelspec": {
      "name": "python3",
      "display_name": "Python 3"
    },
    "language_info": {
      "name": "python"
    }
  },
  "cells": [
    {
      "cell_type": "markdown",
      "metadata": {
        "id": "view-in-github",
        "colab_type": "text"
      },
      "source": [
        "<a href=\"https://colab.research.google.com/github/MELRIAN1910/MachineLearning/blob/main/ML%20Model%20Optimization/Model_Selection.ipynb\" target=\"_parent\"><img src=\"https://colab.research.google.com/assets/colab-badge.svg\" alt=\"Open In Colab\"/></a>"
      ]
    },
    {
      "cell_type": "code",
      "execution_count": null,
      "metadata": {
        "id": "FP3Y8n5TZGlN"
      },
      "outputs": [],
      "source": [
        "#import dependencies\n",
        "import numpy as np\n",
        "import pandas as pd\n",
        "from sklearn.model_selection import cross_val_score\n",
        "from sklearn.model_selection import GridSearchCV\n",
        "\n",
        "#importing the models\n",
        "from sklearn.linear_model import LogisticRegression\n",
        "from sklearn.neighbors import KNeighborsClassifier\n",
        "from sklearn.ensemble import RandomForestClassifier\n",
        "from sklearn.svm import SVC\n",
        "\n",
        "#loading the data\n",
        "heart_data = pd.read_csv('heart.csv')\n",
        "heart_data.head()\n",
        "#number of rows and columns in the dataset\n",
        "heart_data.shape\n",
        "#checking for missing values\n",
        "heart_data.isnull().sum()\n",
        "#checking the distribution of target variable\n",
        "heart_data['target'].value_counts()\n",
        "#splitting the features and target\n",
        "X = heart_data.drop(columns='target', axis=1)\n",
        "Y = heart_data['target']\n",
        "print(X)\n",
        "print(Y)"
      ]
    },
    {
      "cell_type": "markdown",
      "source": [
        "# Model selection"
      ],
      "metadata": {
        "id": "0xImU8jgiaOB"
      }
    },
    {
      "cell_type": "markdown",
      "source": [
        "## Comparing the models with default hyperparameter values using Cross Validation"
      ],
      "metadata": {
        "id": "8Sd39RojijKC"
      }
    },
    {
      "cell_type": "code",
      "source": [
        "models = [LogisticRegression(max_iter=1000), KNeighborsClassifier(), RandomForestClassifier(random_state= 0), SVC(kernel='linear')]\n",
        "\n",
        "def compare_models_cross_validation():\n",
        "\n",
        "  for model in models:\n",
        "\n",
        "    cv_score = cross_val_score(model, X, Y, cv=5)\n",
        "    mean_accuracy = sum(cv_score)/len(cv_score)\n",
        "    mean_accuracy = mean_accuracy*100\n",
        "    mean_accuracy = round(mean_accuracy, 2)\n",
        "\n",
        "    print('Cross Validation accuracies for the',model,'=', cv_score)\n",
        "    print('Acccuracy score of the ',model,'=',mean_accuracy,'%')\n",
        "    print('---------------------------------------------------------------')\n",
        "\n",
        "compare_models_cross_validation()"
      ],
      "metadata": {
        "id": "ur876ld-iwdu"
      },
      "execution_count": null,
      "outputs": []
    },
    {
      "cell_type": "markdown",
      "source": [
        "## Comparing the models with different Hyperparameter values using GridSearchCV"
      ],
      "metadata": {
        "id": "TK2Voktwi8Cw"
      }
    },
    {
      "cell_type": "code",
      "source": [
        "# list of models\n",
        "models_list = [LogisticRegression(max_iter=10000), SVC(), KNeighborsClassifier(), RandomForestClassifier(random_state=0)]\n",
        "\n",
        "# creating a dictionary that contains hyperparameter values for the above mentioned models\n",
        "model_hyperparameters = {\n",
        "    'log_reg_hyperparameters': {\n",
        "        'C' : [1,5,10,20]\n",
        "    },\n",
        "    'svc_hyperparameters': {\n",
        "        'kernel' : ['linear','poly','rbf','sigmoid'],\n",
        "        'C' : [1,5,10,20]\n",
        "    },\n",
        "    'KNN_hyperparameters' : {\n",
        "        'n_neighbors' : [3,5,10]\n",
        "    },\n",
        "    'random_forest_hyperparameters' : {\n",
        "        'n_estimators' : [10, 20, 50, 100]\n",
        "    }\n",
        "}\n",
        "\n",
        "type(model_hyperparameters)\n",
        "\n",
        "print(model_hyperparameters.keys())\n",
        "\n",
        "model_hyperparameters['log_reg_hyperparameters']\n",
        "\n",
        "model_keys = list(model_hyperparameters.keys())\n",
        "print(model_keys)\n",
        "\n",
        "model_keys[0]\n",
        "\n",
        "model_hyperparameters[model_keys[0]]\n",
        "\n",
        "#applying gridsearchcv\n",
        "def ModelSelection(list_of_models, hyperparameters_dictionary):\n",
        "  result = []\n",
        "  i = 0\n",
        "  for model in list_of_models:\n",
        "    key = model_keys[i]\n",
        "    params = hyperparameters_dictionary[key]\n",
        "    i += 1\n",
        "\n",
        "    print(model)\n",
        "    print(params)\n",
        "    print('---------------------------------')\n",
        "\n",
        "    classifier = GridSearchCV(model, params, cv=5)\n",
        "\n",
        "    # fitting the data to classifier\n",
        "    classifier.fit(X,Y)\n",
        "\n",
        "    result.append({\n",
        "        'model used' : model,\n",
        "        'highest score' : classifier.best_score_,\n",
        "        'best hyperparameters' : classifier.best_params_\n",
        "    })\n",
        "\n",
        "  result_dataframe = pd.DataFrame(result, columns = ['model used','highest score','best hyperparameters'])\n",
        "\n",
        "  return result_dataframe\n",
        "\n",
        "  ModelSelection(models_list, model_hyperparameters)"
      ],
      "metadata": {
        "id": "pWzZqdNli_sE"
      },
      "execution_count": null,
      "outputs": []
    }
  ]
}