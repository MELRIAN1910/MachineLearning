{
  "nbformat": 4,
  "nbformat_minor": 0,
  "metadata": {
    "colab": {
      "provenance": [],
      "authorship_tag": "ABX9TyPW7gXtZ+FZgxn6W85xHlyl",
      "include_colab_link": true
    },
    "kernelspec": {
      "name": "python3",
      "display_name": "Python 3"
    },
    "language_info": {
      "name": "python"
    }
  },
  "cells": [
    {
      "cell_type": "markdown",
      "metadata": {
        "id": "view-in-github",
        "colab_type": "text"
      },
      "source": [
        "<a href=\"https://colab.research.google.com/github/MELRIAN1910/MachineLearning/blob/main/ML%20Model%20Optimization/Hyper_Parameter_Tuning.ipynb\" target=\"_parent\"><img src=\"https://colab.research.google.com/assets/colab-badge.svg\" alt=\"Open In Colab\"/></a>"
      ]
    },
    {
      "cell_type": "code",
      "source": [
        "#import dependencies\n",
        "import numpy as np\n",
        "import pandas as pd\n",
        "import sklearn.datasets\n",
        "from sklearn.svm import SVC\n",
        "from sklearn.model_selection import GridSearchCV\n",
        "from sklearn.model_selection import RandomizedSearchCV\n",
        "\n",
        "#work on dataset\n",
        "# loading the data from sklearn\n",
        "breast_cancer_dataset = sklearn.datasets.load_breast_cancer()\n",
        "# loading the data to a data frame\n",
        "data_frame = pd.DataFrame(breast_cancer_dataset.data, columns = breast_cancer_dataset.feature_names)\n",
        "# print the first 5 rows of the dataframe\n",
        "data_frame.head()\n",
        "# adding the 'target' column to the data frame\n",
        "data_frame['label'] = breast_cancer_dataset.target\n",
        "print(breast_cancer_dataset)\n",
        "# print the first 5 rows of the dataframe\n",
        "data_frame.head()\n",
        "# number of rows and Columns in this dataset\n",
        "data_frame.shape\n",
        "# checking for missing values\n",
        "data_frame.isnull().sum()\n",
        "# checking the distribution of Target Varibale\n",
        "data_frame['label'].value_counts()\n",
        "\n",
        "#seperating Features and data\n",
        "X = data_frame.drop(columns='label', axis=1)\n",
        "Y = data_frame['label']\n",
        "print(X)\n",
        "print(Y)\n",
        "\n",
        "\n",
        "X= np.asarray(X)\n",
        "Y= np.asarray(Y)"
      ],
      "metadata": {
        "id": "l8JVwtZRQquO"
      },
      "execution_count": null,
      "outputs": []
    },
    {
      "cell_type": "markdown",
      "source": [
        "# Grid Search"
      ],
      "metadata": {
        "id": "BBcnjnhsWTPo"
      }
    },
    {
      "cell_type": "code",
      "source": [
        "#GridSearchCv\n",
        "#loading svc model\n",
        "model = SVC()\n",
        "#hyper parameters\n",
        "parameters = {'kernel': ['linear', 'poly', 'rbf', 'sigmoid'],\n",
        "              'c': [1, 5, 10, 20]}\n",
        "#gridsearch\n",
        "classifier = GridSearchCV(model, parameters, cv = 5)\n",
        "#fitting the data to model\n",
        "classifier.fit(X,Y)\n",
        "classifier.cv_results_\n",
        "\n",
        "#Best parameters\n",
        "best_parameters = classifier.best_params_\n",
        "print(best_parameters)\n",
        "\n",
        "#Best score\n",
        "best_score = classifier.best_score_\n",
        "print(best_score)\n",
        "\n",
        "#loading the results to pandas data frame\n",
        "result = pd.DataFrame(classifier.cv_results_)\n",
        "result.head()\n",
        "\n",
        "grid_search_result = result[['param_C','param_kernel','mean_test_score']]\n",
        "grid_search_result"
      ],
      "metadata": {
        "id": "VDKv2oN3WaDQ"
      },
      "execution_count": null,
      "outputs": []
    },
    {
      "cell_type": "markdown",
      "source": [
        "# RandomizedSearchCV"
      ],
      "metadata": {
        "id": "CLxfhRBcWfeQ"
      }
    },
    {
      "cell_type": "code",
      "source": [
        "#Loading the svc model\n",
        "model = SVC()\n",
        "\n",
        "#hyperparameters\n",
        "parameters = {'kernel': ['linear', 'poly', 'rbf', 'sigmoid'],\n",
        "              'C': [1, 5, 10, 20]}\n",
        "\n",
        "#randomized search\n",
        "classifier = RandomizedSearchCV(model, parameters, cv = 5)\n",
        "\n",
        "#fitting the data to model\n",
        "classifier.fit(X,Y)\n",
        "classifier.cv_results_\n",
        "\n",
        "#Best parameters\n",
        "best_parameters = classifier.best_params_\n",
        "print(best_parameters)\n",
        "\n",
        "#Best score\n",
        "best_score = classifier.best_score_\n",
        "print(best_score)\n",
        "\n",
        "#loading the results to panda data frame\n",
        "result = pd.DataFrame(classifier.cv_results_)\n",
        "result.head()\n",
        "\n",
        "random_search_result = result[['param_C','param_kernel','mean_test_score']]\n",
        "random_search_result"
      ],
      "metadata": {
        "id": "jUxq4ZZHWjYc"
      },
      "execution_count": null,
      "outputs": []
    }
  ]
}