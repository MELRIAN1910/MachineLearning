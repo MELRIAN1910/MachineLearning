{
  "nbformat": 4,
  "nbformat_minor": 0,
  "metadata": {
    "colab": {
      "provenance": [],
      "authorship_tag": "ABX9TyNVWLnQmwnYSDqC7IQR4+3j",
      "include_colab_link": true
    },
    "kernelspec": {
      "name": "python3",
      "display_name": "Python 3"
    },
    "language_info": {
      "name": "python"
    }
  },
  "cells": [
    {
      "cell_type": "markdown",
      "metadata": {
        "id": "view-in-github",
        "colab_type": "text"
      },
      "source": [
        "<a href=\"https://colab.research.google.com/github/MELRIAN1910/MachineLearning/blob/main/Mathematics_for_ML.ipynb\" target=\"_parent\"><img src=\"https://colab.research.google.com/assets/colab-badge.svg\" alt=\"Open In Colab\"/></a>"
      ]
    },
    {
      "cell_type": "markdown",
      "source": [
        "# Mathematics For ML\n",
        "\n",
        "\n",
        "\n",
        "1.   Linear Algebra\n",
        "2.   Statistics\n",
        "3.   Probability\n",
        "4.   Calculus\n"
      ],
      "metadata": {
        "id": "WjCBg1B4v4Cx"
      }
    },
    {
      "cell_type": "markdown",
      "source": [
        "## Linear Algebra\n",
        "\n",
        "### Vectors"
      ],
      "metadata": {
        "id": "ygJtA1TQxa40"
      }
    },
    {
      "cell_type": "code",
      "source": [
        "#dependencies\n",
        "import numpy as np\n",
        "import matplotlib.pyplot as plt\n",
        "import seaborn as sns\n",
        "\n",
        "sns.set()"
      ],
      "metadata": {
        "id": "9MKF8MO0xjeI"
      },
      "execution_count": null,
      "outputs": []
    },
    {
      "cell_type": "code",
      "source": [
        "#plotting a vector\n",
        "plt.quiver(0,0,4,4,angles='xy',scale_units='xy',scale=1)\n",
        "plt.xlim(-2,8)\n",
        "plt.ylim(-2,8)\n",
        "plt.show()"
      ],
      "metadata": {
        "colab": {
          "base_uri": "https://localhost:8080/",
          "height": 440
        },
        "id": "mETI26GhyFEH",
        "outputId": "7d29e368-b555-46b4-f0cf-0865deb2d6f0"
      },
      "execution_count": null,
      "outputs": [
        {
          "output_type": "display_data",
          "data": {
            "text/plain": [
              "<Figure size 640x480 with 1 Axes>"
            ],
            "image/png": "[encoded data removed]"
          },
          "metadata": {}
        }
      ]
    },
    {
      "cell_type": "code",
      "source": [
        "#vector addition\n",
        "vector_1 = np.asarray([0,0,2,3])\n",
        "vector_2 = np.asarray([0,0,3,-2])\n",
        "sum_vector = vector_1 + vector_2\n",
        "print(sum_vector)"
      ],
      "metadata": {
        "colab": {
          "base_uri": "https://localhost:8080/"
        },
        "id": "yeYMhrdDyZmp",
        "outputId": "eb1a218a-ed36-4ef8-97ae-71a84508d924"
      },
      "execution_count": null,
      "outputs": [
        {
          "output_type": "stream",
          "name": "stdout",
          "text": [
            "[0 0 5 1]\n"
          ]
        }
      ]
    },
    {
      "cell_type": "code",
      "source": [
        "#plot the sum vector\n",
        "plt.quiver(0,0,2,3,angles='xy',scale_units='xy',scale=1, color = 'b')\n",
        "plt.quiver(0,0,3,-2,angles='xy',scale_units='xy',scale=1, color = 'g')\n",
        "plt.quiver(0,0,5,1,angles='xy',scale_units='xy',scale=1, color = 'r')\n",
        "plt.xlim(-8,8)\n",
        "plt.ylim(-8,8)\n",
        "plt.show()"
      ],
      "metadata": {
        "colab": {
          "base_uri": "https://localhost:8080/",
          "height": 440
        },
        "id": "GS5D_2IMy_k9",
        "outputId": "364fe196-9cf7-4cb3-812a-c97c9a61a80d"
      },
      "execution_count": null,
      "outputs": [
        {
          "output_type": "display_data",
          "data": {
            "text/plain": [
              "<Figure size 640x480 with 1 Axes>"
            ],
            "image/png": "[encoded data removed]"
          },
          "metadata": {}
        }
      ]
    },
    {
      "cell_type": "code",
      "source": [
        "#Vector subtraction\n",
        "vector_1 = np.asarray([0,0,2,3])\n",
        "vector_2 = np.asarray([0,0,3,-2])\n",
        "difference = vector_1 - vector_2\n",
        "print(difference)"
      ],
      "metadata": {
        "colab": {
          "base_uri": "https://localhost:8080/"
        },
        "id": "JWsiMIRpzqgj",
        "outputId": "80016d2c-5607-4e32-c36b-54e6dcf35609"
      },
      "execution_count": null,
      "outputs": [
        {
          "output_type": "stream",
          "name": "stdout",
          "text": [
            "[ 0  0 -1  5]\n"
          ]
        }
      ]
    },
    {
      "cell_type": "code",
      "source": [
        "#multiplying vector by scaler\n",
        "vector = np.asarray([0,0,2,3])\n",
        "product = vector * 2\n",
        "print(product)"
      ],
      "metadata": {
        "colab": {
          "base_uri": "https://localhost:8080/"
        },
        "id": "-xM0ZBKuz3es",
        "outputId": "c78693bf-a0b6-4166-d735-864e8289237a"
      },
      "execution_count": null,
      "outputs": [
        {
          "output_type": "stream",
          "name": "stdout",
          "text": [
            "[0 0 4 6]\n"
          ]
        }
      ]
    },
    {
      "cell_type": "code",
      "source": [
        "#Dot product of vectors\n",
        "vector_1 = np.asarray([2,3])\n",
        "vector_2 = np.asarray([3,2])\n",
        "dot_product = np.dot(vector_1,vector_2)\n",
        "print(dot_product)"
      ],
      "metadata": {
        "colab": {
          "base_uri": "https://localhost:8080/"
        },
        "id": "lCJTlmoN0Z-v",
        "outputId": "352c30aa-4116-42b4-dc46-5c62ee797bf8"
      },
      "execution_count": null,
      "outputs": [
        {
          "output_type": "stream",
          "name": "stdout",
          "text": [
            "12\n"
          ]
        }
      ]
    },
    {
      "cell_type": "code",
      "source": [
        "#cross product of vectors\n",
        "vector_1 = np.asarray([2,3])\n",
        "vector_2 = np.asarray([3,2])\n",
        "cross_product = np.cross(vector_1,vector_2)\n",
        "print(cross_product)"
      ],
      "metadata": {
        "colab": {
          "base_uri": "https://localhost:8080/"
        },
        "id": "8NtduIBe0xJY",
        "outputId": "8631f794-4c4f-4819-9d5a-c4ad16c817fb"
      },
      "execution_count": null,
      "outputs": [
        {
          "output_type": "stream",
          "name": "stdout",
          "text": [
            "-5\n"
          ]
        }
      ]
    },
    {
      "cell_type": "code",
      "source": [
        "#Projection of a vector\n",
        "a = np.array([2,5])\n",
        "v = np.array([8,-6])\n",
        "#Magnitude of v\n",
        "magnitude_of_v = np.sqrt(sum(v**2))\n",
        "proj_of_a_on_v = (np.dot(a,v)/magnitude_of_v**2)*v\n",
        "print(proj_of_a_on_v)\n"
      ],
      "metadata": {
        "colab": {
          "base_uri": "https://localhost:8080/"
        },
        "id": "F3t3sfln1lVJ",
        "outputId": "bcbbaf61-964e-44b5-d57c-b03c4a145dca"
      },
      "execution_count": null,
      "outputs": [
        {
          "output_type": "stream",
          "name": "stdout",
          "text": [
            "[-1.12  0.84]\n"
          ]
        }
      ]
    },
    {
      "cell_type": "markdown",
      "source": [
        "## Matrices"
      ],
      "metadata": {
        "id": "Edl-KxB44G3f"
      }
    },
    {
      "cell_type": "code",
      "source": [
        "#dependencies\n",
        "import numpy as np\n",
        "#creating a matrix\n",
        "matrix_1 = np.array([[1,2,3],[4,5,6],[7,8,9]])\n",
        "print(matrix_1)\n",
        "matrix_1.shape"
      ],
      "metadata": {
        "colab": {
          "base_uri": "https://localhost:8080/"
        },
        "id": "bY3x3Yya5E5X",
        "outputId": "514ffd89-71a6-4821-b0d7-c41995d0371f"
      },
      "execution_count": null,
      "outputs": [
        {
          "output_type": "stream",
          "name": "stdout",
          "text": [
            "[[1 2 3]\n",
            " [4 5 6]\n",
            " [7 8 9]]\n"
          ]
        },
        {
          "output_type": "execute_result",
          "data": {
            "text/plain": [
              "(3, 3)"
            ]
          },
          "metadata": {},
          "execution_count": 14
        }
      ]
    },
    {
      "cell_type": "code",
      "source": [
        "#create matrices with random values\n",
        "matrix_2 = np.random.rand(3,3)\n",
        "print(matrix_2)"
      ],
      "metadata": {
        "colab": {
          "base_uri": "https://localhost:8080/"
        },
        "id": "lBQy2uqx9dAw",
        "outputId": "43807e9c-303d-4b75-ca25-6a2854037f36"
      },
      "execution_count": null,
      "outputs": [
        {
          "output_type": "stream",
          "name": "stdout",
          "text": [
            "[[0.48587092 0.60049088 0.66245179]\n",
            " [0.10255837 0.304419   0.64395662]\n",
            " [0.70878564 0.2653825  0.85835947]]\n"
          ]
        }
      ]
    },
    {
      "cell_type": "code",
      "source": [
        "#create matrices with random integers\n",
        "matrix_3 = np.random.randint(0,10,size=(3,3))\n",
        "print(matrix_3)"
      ],
      "metadata": {
        "colab": {
          "base_uri": "https://localhost:8080/"
        },
        "id": "m2ThpmIx-3gg",
        "outputId": "3f3f983d-d238-4d71-97b0-e2a7c18fd1a5"
      },
      "execution_count": null,
      "outputs": [
        {
          "output_type": "stream",
          "name": "stdout",
          "text": [
            "[[2 6 7]\n",
            " [6 4 0]\n",
            " [8 5 8]]\n"
          ]
        }
      ]
    },
    {
      "cell_type": "code",
      "source": [
        "#matrix with all values 1\n",
        "matrix_4 = np.ones((3,3))\n",
        "print(matrix_4)"
      ],
      "metadata": {
        "colab": {
          "base_uri": "https://localhost:8080/"
        },
        "id": "SDb6224m_K84",
        "outputId": "8de27f4f-16d4-4692-ddeb-f56eda527982"
      },
      "execution_count": null,
      "outputs": [
        {
          "output_type": "stream",
          "name": "stdout",
          "text": [
            "[[1. 1. 1.]\n",
            " [1. 1. 1.]\n",
            " [1. 1. 1.]]\n"
          ]
        }
      ]
    },
    {
      "cell_type": "code",
      "source": [
        "#matrix with all integer 1\n",
        "matrix_5 = np.full((3,3),1)\n",
        "print(matrix_5)"
      ],
      "metadata": {
        "colab": {
          "base_uri": "https://localhost:8080/"
        },
        "id": "S1tW9Qe4_TXh",
        "outputId": "74ce3565-3c2d-4731-a822-349e5a7eb148"
      },
      "execution_count": null,
      "outputs": [
        {
          "output_type": "stream",
          "name": "stdout",
          "text": [
            "[[1 1 1]\n",
            " [1 1 1]\n",
            " [1 1 1]]\n"
          ]
        }
      ]
    },
    {
      "cell_type": "code",
      "source": [
        "#null matrix\n",
        "matrix_6 = np.zeros((3,3))\n",
        "print(matrix_6)"
      ],
      "metadata": {
        "colab": {
          "base_uri": "https://localhost:8080/"
        },
        "id": "vK93omfM_uiF",
        "outputId": "43419e03-182f-4aef-f29c-18b6d9d54103"
      },
      "execution_count": null,
      "outputs": [
        {
          "output_type": "stream",
          "name": "stdout",
          "text": [
            "[[0. 0. 0.]\n",
            " [0. 0. 0.]\n",
            " [0. 0. 0.]]\n"
          ]
        }
      ]
    },
    {
      "cell_type": "code",
      "source": [
        "#identity matrix\n",
        "matrix_7 = np.eye(3)\n",
        "print(matrix_7)"
      ],
      "metadata": {
        "colab": {
          "base_uri": "https://localhost:8080/"
        },
        "id": "W1Gdvy4f_zr7",
        "outputId": "d1cc207d-f1c9-4ad4-9261-834aa88a6dd4"
      },
      "execution_count": null,
      "outputs": [
        {
          "output_type": "stream",
          "name": "stdout",
          "text": [
            "[[1. 0. 0.]\n",
            " [0. 1. 0.]\n",
            " [0. 0. 1.]]\n"
          ]
        }
      ]
    },
    {
      "cell_type": "code",
      "source": [
        "#matrix transpose\n",
        "matrix_8 = np.array([[1,2,3],[4,5,6],[7,8,9]])\n",
        "print(matrix_8)\n",
        "print(matrix_8.T)"
      ],
      "metadata": {
        "colab": {
          "base_uri": "https://localhost:8080/"
        },
        "id": "lES7kexj_7hd",
        "outputId": "a847977d-f210-4d9d-9125-31d7fb0e23a7"
      },
      "execution_count": null,
      "outputs": [
        {
          "output_type": "stream",
          "name": "stdout",
          "text": [
            "[[1 2 3]\n",
            " [4 5 6]\n",
            " [7 8 9]]\n",
            "[[1 4 7]\n",
            " [2 5 8]\n",
            " [3 6 9]]\n"
          ]
        }
      ]
    },
    {
      "cell_type": "code",
      "source": [
        "a = np.array([[1,2,3],[4,5,6],[7,8,9]])\n",
        "b = np.array([[9,8,7],[6,5,4],[3,2,1]])\n",
        "c = np.array([[1,2,3,4],[3,4,5,6],[5,6,7,8]])\n",
        "print(a)\n",
        "print(b)\n",
        "print(c)"
      ],
      "metadata": {
        "colab": {
          "base_uri": "https://localhost:8080/"
        },
        "id": "vUpTjx0tAITI",
        "outputId": "0ef9db41-d5bd-499d-e4f9-605ce5b2f43c"
      },
      "execution_count": null,
      "outputs": [
        {
          "output_type": "stream",
          "name": "stdout",
          "text": [
            "[[1 2 3]\n",
            " [4 5 6]\n",
            " [7 8 9]]\n",
            "[[9 8 7]\n",
            " [6 5 4]\n",
            " [3 2 1]]\n",
            "[[1 2 3 4]\n",
            " [3 4 5 6]\n",
            " [5 6 7 8]]\n"
          ]
        }
      ]
    },
    {
      "cell_type": "code",
      "source": [
        "#addition\n",
        "sum_matrix = a + b\n",
        "sum_matrix2 =np.add(a,b)\n",
        "print(sum_matrix)\n",
        "print(sum_matrix2)\n",
        "\n",
        "#subtarction\n",
        "difference_matrix = a - b\n",
        "diff = np.subtract(a,b)\n",
        "print(difference_matrix)\n",
        "print(diff)\n",
        "\n",
        "#multiplication\n",
        "x =5\n",
        "product_matrix = np.multiply(x,a)\n",
        "print(product_matrix)\n",
        "\n",
        "#multiplying 2 matrices( dot and element wise products)\n",
        "#dot product\n",
        "dot_product = np.dot(a,c)\n",
        "print(dot_product)\n",
        "#element wise product(both matrices should have same shape)\n",
        "element_wise_product = np.multiply(a,b)\n",
        "print(element_wise_product)"
      ],
      "metadata": {
        "colab": {
          "base_uri": "https://localhost:8080/"
        },
        "id": "W3y_nz_kAfJl",
        "outputId": "1b528272-411b-405e-af39-bc35cf558818"
      },
      "execution_count": null,
      "outputs": [
        {
          "output_type": "stream",
          "name": "stdout",
          "text": [
            "[[10 10 10]\n",
            " [10 10 10]\n",
            " [10 10 10]]\n",
            "[[10 10 10]\n",
            " [10 10 10]\n",
            " [10 10 10]]\n",
            "[[-8 -6 -4]\n",
            " [-2  0  2]\n",
            " [ 4  6  8]]\n",
            "[[-8 -6 -4]\n",
            " [-2  0  2]\n",
            " [ 4  6  8]]\n",
            "[[ 5 10 15]\n",
            " [20 25 30]\n",
            " [35 40 45]]\n",
            "[[ 22  28  34  40]\n",
            " [ 49  64  79  94]\n",
            " [ 76 100 124 148]]\n",
            "[[ 9 16 21]\n",
            " [24 25 24]\n",
            " [21 16  9]]\n"
          ]
        }
      ]
    }
  ]
}