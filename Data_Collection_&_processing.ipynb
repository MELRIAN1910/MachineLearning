{
  "nbformat": 4,
  "nbformat_minor": 0,
  "metadata": {
    "colab": {
      "provenance": [],
      "collapsed_sections": [
        "fy8eys-BdLrX",
        "XVRgU4y3i9hn",
        "QyOJsdnQkRSx",
        "w3NlLmGlniQL",
        "5t_I9H0LpRU-",
        "7Ao2DgD4retE",
        "rKNpf8vJxYRj",
        "SlZWk8g0_b2j"
      ],
      "authorship_tag": "ABX9TyNjkFMujsv+97lAVyN+EDGU",
      "include_colab_link": true
    },
    "kernelspec": {
      "name": "python3",
      "display_name": "Python 3"
    },
    "language_info": {
      "name": "python"
    }
  },
  "cells": [
    {
      "cell_type": "markdown",
      "metadata": {
        "id": "view-in-github",
        "colab_type": "text"
      },
      "source": [
        "<a href=\"https://colab.research.google.com/github/MELRIAN1910/MachineLearning/blob/main/Data_Collection_%26_processing.ipynb\" target=\"_parent\"><img src=\"https://colab.research.google.com/assets/colab-badge.svg\" alt=\"Open In Colab\"/></a>"
      ]
    },
    {
      "cell_type": "markdown",
      "source": [
        "# Data Banks\n",
        "## Kaggle"
      ],
      "metadata": {
        "id": "fy8eys-BdLrX"
      }
    },
    {
      "cell_type": "markdown",
      "source": [
        "1.   Press join competition\n",
        "2.   Go to account settings\n",
        "3.   Create New API (kaggle.json will be downloaded)\n",
        "4.   Upload to colab"
      ],
      "metadata": {
        "id": "S66OIiEGdT09"
      }
    },
    {
      "cell_type": "code",
      "execution_count": null,
      "metadata": {
        "id": "cBgmZGkIcDXf"
      },
      "outputs": [],
      "source": [
        "#Upload kaggle.json file\n",
        "#configuring the path of kaggle.json file\n",
        "!mkdir -p ~/.kaggle\n",
        "!cp kaggle.json ~/.kaggle/\n",
        "!chmod 600 ~/.kaggle/kaggle.json"
      ]
    },
    {
      "cell_type": "markdown",
      "source": [
        "5.   Copy and paste the API code from kaggle with '!' mark\n",
        "6.   Extract the dataset"
      ],
      "metadata": {
        "id": "ozQrK36fe4Us"
      }
    },
    {
      "cell_type": "code",
      "source": [
        "#extract the dataset\n",
        "from zipfile import ZipFile\n",
        "dataset = 'path'\n",
        "\n",
        "with ZipFile(dataset, 'r') as zip:\n",
        "  zip.extractall()\n",
        "  print('The dataset is extracted')"
      ],
      "metadata": {
        "id": "Hi2kM0GTfYxr"
      },
      "execution_count": null,
      "outputs": []
    },
    {
      "cell_type": "markdown",
      "source": [
        "# Data Processing"
      ],
      "metadata": {
        "id": "XVRgU4y3i9hn"
      }
    },
    {
      "cell_type": "code",
      "source": [
        "# Importing Libraries\n",
        "import pandas as pd\n",
        "import numpy as np\n",
        "import matplotlib.pyplot as plt\n",
        "import seaborn as sns"
      ],
      "metadata": {
        "id": "DhHaH5Zii0WS"
      },
      "execution_count": null,
      "outputs": []
    },
    {
      "cell_type": "code",
      "source": [
        "#Load Dataset\n",
        "dataset = pd.read_csv('path')\n",
        "#top 5 rows\n",
        "dataset.head()\n",
        "#count of rows and columns\n",
        "dataset.shape\n",
        "#count of null values\n",
        "dataset.isnull().sum()"
      ],
      "metadata": {
        "id": "0SlOdS8VjVWA"
      },
      "execution_count": null,
      "outputs": []
    },
    {
      "cell_type": "markdown",
      "source": [
        "# Handling missing Values"
      ],
      "metadata": {
        "id": "QyOJsdnQkRSx"
      }
    },
    {
      "cell_type": "code",
      "source": [
        "#Analyze the distribution of data (salary)\n",
        "fig,ax = plt.subplots(figsize=(10,5))\n",
        "sns.distplot(dataset['salary'])"
      ],
      "metadata": {
        "id": "3VjAwMPkkkYy"
      },
      "execution_count": null,
      "outputs": []
    },
    {
      "cell_type": "markdown",
      "source": [
        "### Imputation"
      ],
      "metadata": {
        "id": "cw2BY9lpkeD6"
      }
    },
    {
      "cell_type": "code",
      "source": [
        "#Replacing missing values with Median value\n",
        "dataset['salary'] = dataset['salary'].fillna(dataset['salary'].median(), inplace = True)"
      ],
      "metadata": {
        "id": "K3mI3RlzkV0S"
      },
      "execution_count": null,
      "outputs": []
    },
    {
      "cell_type": "code",
      "source": [
        "#Replacing with mean value\n",
        "dataset['salary'] = dataset['salary'].fillna(dataset['salary'].mean(), inplace = True)"
      ],
      "metadata": {
        "id": "DTIifcvAlWhI"
      },
      "execution_count": null,
      "outputs": []
    },
    {
      "cell_type": "code",
      "source": [
        "#Replacing with mode\n",
        "dataset['salary'] = dataset['salary'].fillna(dataset['salary'].mode()[0], inplace = True)"
      ],
      "metadata": {
        "id": "5TkkZEmcldrb"
      },
      "execution_count": null,
      "outputs": []
    },
    {
      "cell_type": "markdown",
      "source": [
        "### Dropping"
      ],
      "metadata": {
        "id": "gyvoFtsplpiO"
      }
    },
    {
      "cell_type": "code",
      "source": [
        "#Drop all null data\n",
        "dataset.dropna(how = 'any')"
      ],
      "metadata": {
        "id": "VGnM1o0Rlswy"
      },
      "execution_count": null,
      "outputs": []
    },
    {
      "cell_type": "markdown",
      "source": [
        "### confirm null values have been dealt"
      ],
      "metadata": {
        "id": "SP6jyio7mNRM"
      }
    },
    {
      "cell_type": "code",
      "source": [
        "#count of null values\n",
        "dataset.isnull().sum()\n",
        "#output should be 0"
      ],
      "metadata": {
        "id": "FziGOv-emhx4"
      },
      "execution_count": null,
      "outputs": []
    },
    {
      "cell_type": "markdown",
      "source": [
        "# Train - Test split"
      ],
      "metadata": {
        "id": "w3NlLmGlniQL"
      }
    },
    {
      "cell_type": "code",
      "source": [
        "df = pd.dataframe(dataset.data, columns=dataset.feature_names)\n",
        "x= df\n",
        "y= dataset.target\n",
        "\n",
        "from sklearn.model_selection import train_test_split\n",
        "x_train, x_test, y_train, y_test = train_test_split(x,y, test_size=0.2, random_state=42)\n",
        "print(x_train.shape, x_test.shape, y_train.shape, y_test.shape)"
      ],
      "metadata": {
        "id": "pBGNiXeZoAPl"
      },
      "execution_count": null,
      "outputs": []
    },
    {
      "cell_type": "markdown",
      "source": [
        "# Data Standardization"
      ],
      "metadata": {
        "id": "5t_I9H0LpRU-"
      }
    },
    {
      "cell_type": "code",
      "source": [
        "#Standardize the data\n",
        "from sklearn.preprocessing import StandardScaler\n",
        "print(dataset.data.std())   #1\n",
        "sc = StandardScaler()\n",
        "sc.fit(x_train)\n",
        "x_train_std = sc.transform(x_train)\n",
        "x_test_std = sc.transform(x_test)\n",
        "print(x_train_std.std())\n",
        "print(x_test_std.std())     #2\n",
        "# 2 should be less than 1"
      ],
      "metadata": {
        "id": "4BzHfghIpVi3"
      },
      "execution_count": null,
      "outputs": []
    },
    {
      "cell_type": "markdown",
      "source": [
        "# Label Encoding"
      ],
      "metadata": {
        "id": "7Ao2DgD4retE"
      }
    },
    {
      "cell_type": "code",
      "source": [
        "from sklearn.preprocessing import LabelEncoder\n",
        "#find count of labels\n",
        "dataset['salary'].value_counts()\n",
        "#label encoder function\n",
        "le = LabelEncoder()\n",
        "labels = le.fit_transform(dataset['salary'])\n",
        "#Appending the labels to dataframe\n",
        "dataset['target'] = labels\n",
        "dataset['target'].value_counts()"
      ],
      "metadata": {
        "id": "_kFLzzujr_wk"
      },
      "execution_count": null,
      "outputs": []
    },
    {
      "cell_type": "markdown",
      "source": [
        "# Handling imbalanced datasets"
      ],
      "metadata": {
        "id": "rKNpf8vJxYRj"
      }
    },
    {
      "cell_type": "code",
      "source": [
        "#distribution of 2 classes\n",
        "dataset['target'].value_counts()\n",
        "#seperating classes in \"target\" (eg- high, low)\n",
        "low = dataset[dataset['target'] == 0]\n",
        "high = dataset[dataset['target'] == 1]\n",
        "print(high.shape, low.shape)     #Think that output was 1000,10 & 492,10\n",
        "#Undersampling\n",
        "low_sample = low.sample(n = 492)\n",
        "print(low_sample.shape)\n",
        "#Concatenating two dataframes\n",
        "new_dataset = pd.concat([low_sample, high], axis = 0)\n",
        "new_dataset.head()\n",
        "new_dataset['target'].value_counts()    # now both class count should be same (492 in this case)"
      ],
      "metadata": {
        "id": "yT36wZqex6UB"
      },
      "execution_count": null,
      "outputs": []
    },
    {
      "cell_type": "markdown",
      "source": [
        "# Feature Extraction of text data\n",
        "## Tf-Idf Vectorizer"
      ],
      "metadata": {
        "id": "SlZWk8g0_b2j"
      }
    },
    {
      "cell_type": "code",
      "source": [
        "#TF-IDF\n",
        "from sklearn.feature_extraction.text import TfidfVectorizer\n",
        "vectorizer =TfidfVectorizer()\n",
        "vectorizer = fit(x)\n",
        "x = vectorizer.transform(x)"
      ],
      "metadata": {
        "id": "1qYw_Djx_t5O"
      },
      "execution_count": null,
      "outputs": []
    },
    {
      "cell_type": "markdown",
      "source": [
        "# Numerical Data Preprocessing"
      ],
      "metadata": {
        "id": "A1s2yz4-AnDw"
      }
    },
    {
      "cell_type": "code",
      "source": [
        "#dependencies\n",
        "from sklearn.preprocessing import standardScaler\n",
        "#Data collection and processing\n",
        "#seperating features and target\n",
        "x = dataset.drop(column='outcome', axis =1)\n",
        "y = dataset['outcome']\n",
        "#scaling\n",
        "scaler = standardScaler()\n",
        "standardized_data = scaler.fit_transform(x)\n",
        "print(standardized_data)\n",
        "x= standardized_data\n",
        "print(x)\n",
        "print(y)"
      ],
      "metadata": {
        "id": "cefMBJRLAvif"
      },
      "execution_count": null,
      "outputs": []
    },
    {
      "cell_type": "markdown",
      "source": [
        "# Text Data Preprocessing"
      ],
      "metadata": {
        "id": "jHqTSw2TDCmB"
      }
    },
    {
      "cell_type": "code",
      "source": [
        "#dependencies\n",
        "import re\n",
        "import nltk\n",
        "from nltk.corpus import stopwords\n",
        "from nltk.stem import PorterStemmer\n",
        "from sklearn.feature_extraction.text import TfidfVectorizer\n",
        "#download stop words\n",
        "nltk.download('stopwords')\n",
        "#Data preprocessing\n",
        "#Seperating feature & Target\n",
        "#stemming\n",
        "stemmer = PorterStemmer()\n",
        "def stemming(content):\n",
        "  stemmed_content = re.sub('[^a-zA-Z]',' ',content)\n",
        "  stemmed_content = stemmed_content.lower()\n",
        "  stemmed_content = stemmed_content.split()\n",
        "  stemmed_content = [stemmer.stem(word) for word in stemmed_content if not word in stopwords.words('english')]\n",
        "  stemmed_content = ' '.join(stemmed_content)\n",
        "  return stemmed_content\n",
        "\n",
        "news_dataset['content'] = news_dataset['content'].apply(stemming)\n",
        "print(news_dataset['content'])\n",
        "print(x)\n",
        "print(y)\n",
        "y.shape\n",
        "\n",
        "#Converting textual data to feature vectors\n",
        "vectorizer =TfidfVectorizer\n",
        "vectorizer.fit(x)\n",
        "x = vectorizer.transform(x)\n",
        "print(x)"
      ],
      "metadata": {
        "id": "XPQLYTKjDI4C"
      },
      "execution_count": null,
      "outputs": []
    }
  ]
}