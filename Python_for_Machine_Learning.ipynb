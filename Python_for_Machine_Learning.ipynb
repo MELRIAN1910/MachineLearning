{
  "nbformat": 4,
  "nbformat_minor": 0,
  "metadata": {
    "colab": {
      "provenance": [],
      "collapsed_sections": [
        "jWbm3BuavfCl",
        "h6uM3gFYxf3R",
        "7tm8kn6iy7SL",
        "w5dyeo5JwRE0",
        "qooa2tap02BS",
        "V0ic-bvc5KKg",
        "lcynn-679t6z",
        "v58InbJ4IxJH"
      ],
      "authorship_tag": "ABX9TyNcQ2W288LAf8dcv32SOXdR",
      "include_colab_link": true
    },
    "kernelspec": {
      "name": "python3",
      "display_name": "Python 3"
    },
    "language_info": {
      "name": "python"
    }
  },
  "cells": [
    {
      "cell_type": "markdown",
      "metadata": {
        "id": "view-in-github",
        "colab_type": "text"
      },
      "source": [
        "<a href=\"https://colab.research.google.com/github/MELRIAN1910/MachineLearning/blob/main/Python_for_Machine_Learning.ipynb\" target=\"_parent\"><img src=\"https://colab.research.google.com/assets/colab-badge.svg\" alt=\"Open In Colab\"/></a>"
      ]
    },
    {
      "cell_type": "markdown",
      "source": [
        "# **Python basics**"
      ],
      "metadata": {
        "id": "8pZC1K3wvQtj"
      }
    },
    {
      "cell_type": "markdown",
      "source": [
        "## Print Function"
      ],
      "metadata": {
        "id": "jWbm3BuavfCl"
      }
    },
    {
      "cell_type": "code",
      "source": [
        "#Text\n",
        "print(\"The Text You Want To Print\")\n",
        "print('hello'*5)"
      ],
      "metadata": {
        "colab": {
          "base_uri": "https://localhost:8080/"
        },
        "id": "GVqBQEXqvmvt",
        "outputId": "b188a7f5-ce64-4894-c3a6-ba49645032bc"
      },
      "execution_count": null,
      "outputs": [
        {
          "output_type": "stream",
          "name": "stdout",
          "text": [
            "The Text You Want To Print\n",
            "hellohellohellohellohello\n"
          ]
        }
      ]
    },
    {
      "cell_type": "code",
      "source": [
        "#slicing\n",
        "text_1 = \"programming\"\n",
        "print(text_1[0:4])\n",
        "print(text_1[1:5])"
      ],
      "metadata": {
        "colab": {
          "base_uri": "https://localhost:8080/"
        },
        "id": "V5i46TvW75tu",
        "outputId": "67a6d42a-177d-4970-f5e2-9c73245c6575"
      },
      "execution_count": null,
      "outputs": [
        {
          "output_type": "stream",
          "name": "stdout",
          "text": [
            "prog\n",
            "rogr\n"
          ]
        }
      ]
    },
    {
      "cell_type": "code",
      "source": [
        "#step\n",
        "print(text_1[0:10:2])\n",
        "print(text_1[0:10:3])"
      ],
      "metadata": {
        "colab": {
          "base_uri": "https://localhost:8080/"
        },
        "id": "cYRFWvgP772f",
        "outputId": "94f8e84e-fda4-49f2-9e89-c3161d3feaea"
      },
      "execution_count": null,
      "outputs": [
        {
          "output_type": "stream",
          "name": "stdout",
          "text": [
            "pormi\n",
            "pgmn\n"
          ]
        }
      ]
    },
    {
      "cell_type": "code",
      "source": [
        "#Concatenation\n",
        "text_2 = \"is fun\"\n",
        "print(text_1 + text_2)"
      ],
      "metadata": {
        "colab": {
          "base_uri": "https://localhost:8080/"
        },
        "id": "PdOQbDGh79qi",
        "outputId": "cda4acb3-b9d5-44e5-e995-11a11ef9de8d"
      },
      "execution_count": null,
      "outputs": [
        {
          "output_type": "stream",
          "name": "stdout",
          "text": [
            "programmingis fun\n"
          ]
        }
      ]
    },
    {
      "cell_type": "code",
      "source": [
        "#Number\n",
        "print(123)"
      ],
      "metadata": {
        "colab": {
          "base_uri": "https://localhost:8080/"
        },
        "id": "5FpgAVb88ALA",
        "outputId": "104a2aef-9a22-4024-ff4f-6d3729dace58"
      },
      "execution_count": null,
      "outputs": [
        {
          "output_type": "stream",
          "name": "stdout",
          "text": [
            "123\n"
          ]
        }
      ]
    },
    {
      "cell_type": "markdown",
      "source": [
        "## Constants & variables"
      ],
      "metadata": {
        "id": "h6uM3gFYxf3R"
      }
    },
    {
      "cell_type": "code",
      "source": [
        "DC = \"Bat-man\"\n",
        "print(DC)"
      ],
      "metadata": {
        "colab": {
          "base_uri": "https://localhost:8080/"
        },
        "id": "IuRXYeFDxlwe",
        "outputId": "f39fa517-3901-4ec4-e793-f08bcce461ff"
      },
      "execution_count": null,
      "outputs": [
        {
          "output_type": "stream",
          "name": "stdout",
          "text": [
            "Bat-man\n"
          ]
        }
      ]
    },
    {
      "cell_type": "code",
      "source": [
        "marvel1, marvel2, marvel3 = \"Iron-man\", \"Captain-America\", \"Thor\"\n",
        "print(marvel1)\n",
        "print(marvel2)\n",
        "print(marvel3)"
      ],
      "metadata": {
        "colab": {
          "base_uri": "https://localhost:8080/"
        },
        "id": "-brTEVIP8IUI",
        "outputId": "65c38f74-12d9-4112-a3af-94072f81f714"
      },
      "execution_count": null,
      "outputs": [
        {
          "output_type": "stream",
          "name": "stdout",
          "text": [
            "Iron-man\n",
            "Captain-America\n",
            "Thor\n"
          ]
        }
      ]
    },
    {
      "cell_type": "code",
      "source": [
        "x = y = z = 23\n",
        "\n",
        "print(x)\n",
        "print(y)\n",
        "print(z)"
      ],
      "metadata": {
        "colab": {
          "base_uri": "https://localhost:8080/"
        },
        "id": "M_bH4dAyy47j",
        "outputId": "3756f2a8-42b1-47f7-bc53-11c36f142c55"
      },
      "execution_count": null,
      "outputs": [
        {
          "output_type": "stream",
          "name": "stdout",
          "text": [
            "23\n",
            "23\n",
            "23\n"
          ]
        }
      ]
    },
    {
      "cell_type": "markdown",
      "source": [
        "## Input Function"
      ],
      "metadata": {
        "id": "7tm8kn6iy7SL"
      }
    },
    {
      "cell_type": "code",
      "source": [
        "number1 = input(\"Enter a number: \")\n",
        "number2 = input(\"Enter a number: \")\n",
        "\n",
        "sum = number1 + number2\n",
        "print(sum)"
      ],
      "metadata": {
        "colab": {
          "base_uri": "https://localhost:8080/"
        },
        "id": "amWeMujBy_J2",
        "outputId": "3a042224-6f6f-448a-dd1f-7cb14a2d0355"
      },
      "execution_count": null,
      "outputs": [
        {
          "output_type": "stream",
          "name": "stdout",
          "text": [
            "Enter a number: 23\n",
            "Enter a number: 24\n",
            "2324\n"
          ]
        }
      ]
    },
    {
      "cell_type": "code",
      "source": [
        "number1 = input(\"Enter a number: \")\n",
        "number2 = input(\"Enter a number: \")\n",
        "\n",
        "number1 = int(number1)\n",
        "number2 = int(number2)\n",
        "\n",
        "sum = number1 + number2\n",
        "print(sum)"
      ],
      "metadata": {
        "colab": {
          "base_uri": "https://localhost:8080/"
        },
        "id": "y9W2nh_6zT33",
        "outputId": "de8b90c0-488b-435b-cd16-55a0405c653f"
      },
      "execution_count": null,
      "outputs": [
        {
          "output_type": "stream",
          "name": "stdout",
          "text": [
            "Enter a number: 23\n",
            "Enter a number: 24\n",
            "47\n"
          ]
        }
      ]
    },
    {
      "cell_type": "markdown",
      "source": [
        "## Data type"
      ],
      "metadata": {
        "id": "w5dyeo5JwRE0"
      }
    },
    {
      "cell_type": "code",
      "source": [
        "a=8\n",
        "b= 8.1\n",
        "c= \"hello world\"\n",
        "d = 1+3j\n",
        "e = True\n",
        "\n",
        "print(type(a))\n",
        "print(type(b))\n",
        "print(type(c))\n",
        "print(type(d))\n",
        "print(type(e))\n",
        "type(a)"
      ],
      "metadata": {
        "colab": {
          "base_uri": "https://localhost:8080/"
        },
        "id": "1XXzNGOEwgDP",
        "outputId": "320e278b-f296-4328-b053-27ae610b5307"
      },
      "execution_count": null,
      "outputs": [
        {
          "output_type": "stream",
          "name": "stdout",
          "text": [
            "<class 'int'>\n",
            "<class 'float'>\n",
            "<class 'str'>\n",
            "<class 'complex'>\n",
            "<class 'bool'>\n"
          ]
        },
        {
          "output_type": "execute_result",
          "data": {
            "text/plain": [
              "int"
            ]
          },
          "metadata": {},
          "execution_count": 22
        }
      ]
    },
    {
      "cell_type": "markdown",
      "source": [
        "## Changing data type"
      ],
      "metadata": {
        "id": "qooa2tap02BS"
      }
    },
    {
      "cell_type": "code",
      "source": [
        "num = 5\n",
        "print(num)\n",
        "print(type(num))\n",
        "\n",
        "num = float(num)\n",
        "print(num)\n",
        "print(type(num))"
      ],
      "metadata": {
        "colab": {
          "base_uri": "https://localhost:8080/"
        },
        "id": "Q20Hz8Vd06Ip",
        "outputId": "61d48c92-b63c-4f1e-bfdd-bb89aa950266"
      },
      "execution_count": null,
      "outputs": [
        {
          "output_type": "stream",
          "name": "stdout",
          "text": [
            "5\n",
            "<class 'int'>\n",
            "5.0\n",
            "<class 'float'>\n"
          ]
        }
      ]
    },
    {
      "cell_type": "markdown",
      "source": [
        "## Lists"
      ],
      "metadata": {
        "id": "V0ic-bvc5KKg"
      }
    },
    {
      "cell_type": "code",
      "source": [
        "my_list = [1,2,3.4,\"english\",True]\n",
        "print(my_list)\n",
        "type(my_list)\n"
      ],
      "metadata": {
        "colab": {
          "base_uri": "https://localhost:8080/"
        },
        "id": "JGTTkxnU5MUj",
        "outputId": "1ccda8b5-b569-43c5-fc73-80223f746826"
      },
      "execution_count": null,
      "outputs": [
        {
          "output_type": "stream",
          "name": "stdout",
          "text": [
            "[1, 2, 3.4, 'english', True]\n"
          ]
        },
        {
          "output_type": "execute_result",
          "data": {
            "text/plain": [
              "list"
            ]
          },
          "metadata": {},
          "execution_count": 49
        }
      ]
    },
    {
      "cell_type": "code",
      "source": [
        "#retrieve positional elements by id\n",
        "print(my_list[0])\n",
        "print(my_list[1])\n",
        "print(my_list[2])\n",
        "print(my_list[3])\n",
        "print(my_list[4])"
      ],
      "metadata": {
        "colab": {
          "base_uri": "https://localhost:8080/"
        },
        "id": "3RRXBl7A8hWI",
        "outputId": "f7e9456c-b459-4d70-f852-061067c62408"
      },
      "execution_count": null,
      "outputs": [
        {
          "output_type": "stream",
          "name": "stdout",
          "text": [
            "1\n",
            "2\n",
            "3.4\n",
            "english\n",
            "True\n"
          ]
        }
      ]
    },
    {
      "cell_type": "code",
      "source": [
        "#list can have multiple type of elements\n",
        "print(type(my_list[0]))\n",
        "print(type(my_list[1]))\n",
        "print(type(my_list[2]))\n",
        "print(type(my_list[3]))\n",
        "print(type(my_list[4]))"
      ],
      "metadata": {
        "colab": {
          "base_uri": "https://localhost:8080/"
        },
        "id": "D2m5kcIo8YkR",
        "outputId": "56b272a4-d130-4f81-8145-7fd5489a5595"
      },
      "execution_count": null,
      "outputs": [
        {
          "output_type": "stream",
          "name": "stdout",
          "text": [
            "<class 'int'>\n",
            "<class 'int'>\n",
            "<class 'float'>\n",
            "<class 'str'>\n",
            "<class 'bool'>\n"
          ]
        }
      ]
    },
    {
      "cell_type": "code",
      "source": [
        "#adding elements\n",
        "my_list.append(\"new\")\n",
        "print(my_list)"
      ],
      "metadata": {
        "colab": {
          "base_uri": "https://localhost:8080/"
        },
        "id": "NHScj9S78WhS",
        "outputId": "c1edf055-1351-4efa-b67a-6cfea9571803"
      },
      "execution_count": null,
      "outputs": [
        {
          "output_type": "stream",
          "name": "stdout",
          "text": [
            "[1, 2, 3.4, 'english', True, 'new']\n"
          ]
        }
      ]
    },
    {
      "cell_type": "code",
      "source": [
        "#number of elements\n",
        "print(len(my_list))"
      ],
      "metadata": {
        "colab": {
          "base_uri": "https://localhost:8080/"
        },
        "id": "uYbQsrwn8sbH",
        "outputId": "120d141d-634b-40a0-b59f-bfecc26c3be1"
      },
      "execution_count": null,
      "outputs": [
        {
          "output_type": "stream",
          "name": "stdout",
          "text": [
            "6\n"
          ]
        }
      ]
    },
    {
      "cell_type": "code",
      "source": [
        "#removing elements\n",
        "my_list.remove(\"new\")\n",
        "print(my_list)"
      ],
      "metadata": {
        "colab": {
          "base_uri": "https://localhost:8080/"
        },
        "id": "TzrXQOx88vHb",
        "outputId": "ee6dd0b4-3550-49a1-bf14-50f9a33689d0"
      },
      "execution_count": null,
      "outputs": [
        {
          "output_type": "stream",
          "name": "stdout",
          "text": [
            "[1, 2, 3.4, 'english', True]\n"
          ]
        }
      ]
    },
    {
      "cell_type": "code",
      "source": [
        "#removing elements by index\n",
        "del my_list[1]\n",
        "print(my_list)"
      ],
      "metadata": {
        "colab": {
          "base_uri": "https://localhost:8080/"
        },
        "id": "fL--hbao8xzX",
        "outputId": "cae3aef4-8db1-4a35-c756-796dac942949"
      },
      "execution_count": null,
      "outputs": [
        {
          "output_type": "stream",
          "name": "stdout",
          "text": [
            "[1, 3.4, 'english', True]\n"
          ]
        }
      ]
    },
    {
      "cell_type": "code",
      "source": [
        "#join 2 lists\n",
        "my_list2 = [1,2,3]\n",
        "my_list3 = my_list + my_list2\n",
        "print(my_list3)"
      ],
      "metadata": {
        "colab": {
          "base_uri": "https://localhost:8080/"
        },
        "id": "zjEljS3A80Vf",
        "outputId": "84092f69-a939-4421-b932-7a0464c81220"
      },
      "execution_count": null,
      "outputs": [
        {
          "output_type": "stream",
          "name": "stdout",
          "text": [
            "[1, 3.4, 'english', True, 1, 2, 3]\n"
          ]
        }
      ]
    },
    {
      "cell_type": "markdown",
      "source": [
        "## Tuple\n"
      ],
      "metadata": {
        "id": "lcynn-679t6z"
      }
    },
    {
      "cell_type": "code",
      "source": [
        "tuple1 = (1,2,3.4,\"english\",True)\n",
        "print(tuple1)\n",
        "type(tuple1)"
      ],
      "metadata": {
        "colab": {
          "base_uri": "https://localhost:8080/"
        },
        "id": "pyvEB4be9zbX",
        "outputId": "d4386c53-a853-4e00-8644-92819cbfd353"
      },
      "execution_count": null,
      "outputs": [
        {
          "output_type": "stream",
          "name": "stdout",
          "text": [
            "(1, 2, 3.4, 'english', True)\n"
          ]
        },
        {
          "output_type": "execute_result",
          "data": {
            "text/plain": [
              "tuple"
            ]
          },
          "metadata": {},
          "execution_count": 58
        }
      ]
    },
    {
      "cell_type": "code",
      "source": [
        "#retrieve positional elements by id\n",
        "print(tuple1[0])\n",
        "print(tuple1[1])\n",
        "print(tuple1[2])\n",
        "print(tuple1[3])\n",
        "print(tuple1[4])"
      ],
      "metadata": {
        "colab": {
          "base_uri": "https://localhost:8080/"
        },
        "id": "LoyuQQLoHysq",
        "outputId": "8b19a62d-a848-4abc-9093-2594fb01a9b1"
      },
      "execution_count": null,
      "outputs": [
        {
          "output_type": "stream",
          "name": "stdout",
          "text": [
            "1\n",
            "2\n",
            "3.4\n",
            "english\n",
            "True\n"
          ]
        }
      ]
    },
    {
      "cell_type": "code",
      "source": [
        "#number of elements\n",
        "print(len(tuple1))"
      ],
      "metadata": {
        "colab": {
          "base_uri": "https://localhost:8080/"
        },
        "id": "o-ZGKqsVH7A1",
        "outputId": "75b53a25-6d68-493a-a428-71aa12a0c057"
      },
      "execution_count": null,
      "outputs": [
        {
          "output_type": "stream",
          "name": "stdout",
          "text": [
            "5\n"
          ]
        }
      ]
    },
    {
      "cell_type": "code",
      "source": [
        "#converting list into tuple\n",
        "my_list = [1,2,3]\n",
        "print(my_list)\n",
        "my_tuple = tuple(my_list)\n",
        "print(my_tuple)\n",
        "type(my_tuple)"
      ],
      "metadata": {
        "colab": {
          "base_uri": "https://localhost:8080/"
        },
        "id": "BAqu72q8HB9Z",
        "outputId": "d8fd423f-d7c1-4e18-ba01-a945e9b2bff4"
      },
      "execution_count": null,
      "outputs": [
        {
          "output_type": "stream",
          "name": "stdout",
          "text": [
            "[1, 2, 3]\n",
            "(1, 2, 3)\n"
          ]
        },
        {
          "output_type": "execute_result",
          "data": {
            "text/plain": [
              "tuple"
            ]
          },
          "metadata": {},
          "execution_count": 61
        }
      ]
    },
    {
      "cell_type": "markdown",
      "source": [
        "## Sets"
      ],
      "metadata": {
        "id": "v58InbJ4IxJH"
      }
    },
    {
      "cell_type": "code",
      "source": [
        "mySet = {1,2,3,4,5}\n",
        "print(mySet)\n",
        "type(mySet)"
      ],
      "metadata": {
        "colab": {
          "base_uri": "https://localhost:8080/"
        },
        "id": "SlIZz4i3I3Lm",
        "outputId": "d1912be6-f34c-47d0-926f-376d61b49884"
      },
      "execution_count": null,
      "outputs": [
        {
          "output_type": "stream",
          "name": "stdout",
          "text": [
            "{1, 2, 3, 4, 5}\n"
          ]
        },
        {
          "output_type": "execute_result",
          "data": {
            "text/plain": [
              "set"
            ]
          },
          "metadata": {},
          "execution_count": 73
        }
      ]
    },
    {
      "cell_type": "code",
      "source": [
        "#convert list to set\n",
        "list1 = [1,2,3,4,5]\n",
        "print(list1)\n",
        "x = set(list1)\n",
        "print(x)\n",
        "type(x)"
      ],
      "metadata": {
        "colab": {
          "base_uri": "https://localhost:8080/"
        },
        "id": "VGuLHHzZKU7j",
        "outputId": "efb8afb0-3a2d-40bd-8029-8eba11fcbbcc"
      },
      "execution_count": null,
      "outputs": [
        {
          "output_type": "stream",
          "name": "stdout",
          "text": [
            "[1, 2, 3, 4, 5]\n",
            "{1, 2, 3, 4, 5}\n"
          ]
        },
        {
          "output_type": "execute_result",
          "data": {
            "text/plain": [
              "set"
            ]
          },
          "metadata": {},
          "execution_count": 74
        }
      ]
    },
    {
      "cell_type": "code",
      "source": [
        "#doesn't allow duplicate values\n",
        "set1 = {1,2,3,4,5,5}\n",
        "print(set1)"
      ],
      "metadata": {
        "colab": {
          "base_uri": "https://localhost:8080/"
        },
        "id": "iqpJ7mAhK0YS",
        "outputId": "6ba032f5-234d-4166-b9d9-cd24209d99d1"
      },
      "execution_count": null,
      "outputs": [
        {
          "output_type": "stream",
          "name": "stdout",
          "text": [
            "{1, 2, 3, 4, 5}\n"
          ]
        }
      ]
    },
    {
      "cell_type": "markdown",
      "source": [
        "## Dictionary"
      ],
      "metadata": {
        "id": "yTXygyz4K_vU"
      }
    },
    {
      "cell_type": "code",
      "source": [
        "myDictionary = {\n",
        "    \"name\" : \"John\",\n",
        "    \"age\" : 36,\n",
        "    \"country\" : \"Norway\"\n",
        "}\n",
        "print(myDictionary)\n",
        "type(myDictionary)"
      ],
      "metadata": {
        "id": "4hXREFAYLEx4",
        "colab": {
          "base_uri": "https://localhost:8080/"
        },
        "outputId": "af8a6459-cc43-4b96-a4fc-4f58f8c190d6"
      },
      "execution_count": null,
      "outputs": [
        {
          "output_type": "stream",
          "name": "stdout",
          "text": [
            "{'name': 'John', 'age': 36, 'country': 'Norway'}\n"
          ]
        },
        {
          "output_type": "execute_result",
          "data": {
            "text/plain": [
              "dict"
            ]
          },
          "metadata": {},
          "execution_count": 1
        }
      ]
    },
    {
      "cell_type": "code",
      "source": [
        "#retrieve a specific data\n",
        "print(myDictionary[\"name\"])\n",
        "print(myDictionary[\"age\"])\n",
        "print(myDictionary[\"country\"])"
      ],
      "metadata": {
        "colab": {
          "base_uri": "https://localhost:8080/"
        },
        "id": "fcQX_1ednnH4",
        "outputId": "615bb317-d35d-4989-b9e6-9d8d0f7453c1"
      },
      "execution_count": null,
      "outputs": [
        {
          "output_type": "stream",
          "name": "stdout",
          "text": [
            "John\n",
            "36\n",
            "Norway\n"
          ]
        }
      ]
    },
    {
      "cell_type": "markdown",
      "source": [
        "## Operators"
      ],
      "metadata": {
        "id": "1UB3DqofolAE"
      }
    },
    {
      "cell_type": "markdown",
      "source": [
        "### Arithmetic Operators"
      ],
      "metadata": {
        "id": "lAOcjFnWorxN"
      }
    },
    {
      "cell_type": "code",
      "source": [
        "num1 = 20\n",
        "num2 = 6\n",
        "#Addition\n",
        "print(num1 + num2)\n",
        "#subtraction\n",
        "print(num1 - num2)\n",
        "#multiplication\n",
        "print(num1 * num2)\n",
        "#division float\n",
        "print(num1 / num2)\n",
        "#modulus\n",
        "print(num1 % num2)\n",
        "#exponent\n",
        "print(num1 ** num2)\n",
        "#Division Integer\n",
        "print(num1 // num2)"
      ],
      "metadata": {
        "colab": {
          "base_uri": "https://localhost:8080/"
        },
        "id": "YndWv1jloyOG",
        "outputId": "63c8e2b4-5bf7-4ad0-a048-b729ed3d42cc"
      },
      "execution_count": null,
      "outputs": [
        {
          "output_type": "stream",
          "name": "stdout",
          "text": [
            "26\n",
            "14\n",
            "120\n",
            "3.3333333333333335\n",
            "2\n",
            "64000000\n",
            "3\n"
          ]
        }
      ]
    },
    {
      "cell_type": "markdown",
      "source": [
        "### Assignment Operator"
      ],
      "metadata": {
        "id": "gD4XMlZ5ukyS"
      }
    },
    {
      "cell_type": "code",
      "source": [
        "a=5\n",
        "b = 5\n",
        "c = 5\n",
        "d = 5\n",
        "e = 5\n",
        "f = 5"
      ],
      "metadata": {
        "id": "-J8bS4lQurY9"
      },
      "execution_count": null,
      "outputs": []
    },
    {
      "cell_type": "code",
      "source": [
        "#each time you run the number gets added\n",
        "a += 5\n",
        "print(\"a =\", a)\n",
        "\n",
        "b -= 2\n",
        "print(\"b =\", b)\n",
        "\n",
        "c *= 2\n",
        "print(\"c =\",c)\n",
        "\n",
        "d /= 2\n",
        "print(\"d =\",d)\n",
        "\n",
        "e **= 2\n",
        "print(\"e =\",d)\n",
        "\n",
        "f %= 2\n",
        "print(\"f =\",f)"
      ],
      "metadata": {
        "colab": {
          "base_uri": "https://localhost:8080/"
        },
        "id": "jzSBQLM7vQgX",
        "outputId": "75b33589-d502-4474-f749-f40fcaa626db"
      },
      "execution_count": null,
      "outputs": [
        {
          "output_type": "stream",
          "name": "stdout",
          "text": [
            "a = 35\n",
            "b = -7\n",
            "c = 320\n",
            "d = 0.078125\n",
            "e = 0.078125\n",
            "f = 1\n"
          ]
        }
      ]
    },
    {
      "cell_type": "markdown",
      "source": [
        "### Comparison Operator"
      ],
      "metadata": {
        "id": "Z_iYBiIdxyhE"
      }
    },
    {
      "cell_type": "code",
      "source": [
        "a = 10\n",
        "b = 20\n",
        "print(a == b)\n",
        "print(a != b)\n",
        "print(a > b)\n",
        "print(a < b)\n",
        "print(a >= b)\n",
        "print(a <= b)"
      ],
      "metadata": {
        "colab": {
          "base_uri": "https://localhost:8080/"
        },
        "id": "syIZGFXYx4yw",
        "outputId": "e80e3550-2a83-49ac-a0cf-21cf27ba6bf2"
      },
      "execution_count": null,
      "outputs": [
        {
          "output_type": "stream",
          "name": "stdout",
          "text": [
            "False\n",
            "True\n",
            "False\n",
            "True\n",
            "False\n",
            "True\n"
          ]
        }
      ]
    },
    {
      "cell_type": "markdown",
      "source": [
        "### Logical Operators"
      ],
      "metadata": {
        "id": "9-l4wESMyIX4"
      }
    },
    {
      "cell_type": "code",
      "source": [
        "a = 10\n",
        "print(a > 20 and a > 5)\n",
        "print(a > 20 or a > 5)\n",
        "print(not(a > 20 and a > 5))"
      ],
      "metadata": {
        "colab": {
          "base_uri": "https://localhost:8080/"
        },
        "id": "j9h9rNONychv",
        "outputId": "61d10581-ac35-4a6b-eadd-20a75df581c1"
      },
      "execution_count": null,
      "outputs": [
        {
          "output_type": "stream",
          "name": "stdout",
          "text": [
            "False\n",
            "True\n",
            "True\n"
          ]
        }
      ]
    },
    {
      "cell_type": "markdown",
      "source": [
        "### Idendity Operators"
      ],
      "metadata": {
        "id": "hNe4EbafzoBm"
      }
    },
    {
      "cell_type": "code",
      "source": [
        "x = 5\n",
        "y = 5\n",
        "z = 10\n",
        "print(x is y)\n",
        "print(x is not y)\n",
        "print(x is z)\n",
        "print(x is not z)"
      ],
      "metadata": {
        "colab": {
          "base_uri": "https://localhost:8080/"
        },
        "id": "o73SsPybzuLP",
        "outputId": "9cc8a030-e048-443e-8170-6edd05caf955"
      },
      "execution_count": null,
      "outputs": [
        {
          "output_type": "stream",
          "name": "stdout",
          "text": [
            "True\n",
            "False\n",
            "False\n",
            "True\n"
          ]
        }
      ]
    },
    {
      "cell_type": "markdown",
      "source": [
        "### Membership Operators"
      ],
      "metadata": {
        "id": "9Wr7AlRF0cvC"
      }
    },
    {
      "cell_type": "code",
      "source": [
        "a = 5\n",
        "b = 10\n",
        "c = [1,2,3,4,5]\n",
        "print(a in c)\n",
        "print(b in c)\n",
        "print(a not in c)\n",
        "print(b not in c)"
      ],
      "metadata": {
        "colab": {
          "base_uri": "https://localhost:8080/"
        },
        "id": "U0M0FFEk04k5",
        "outputId": "44e0e3f6-7c4c-49db-d9db-a4248d32a0e3"
      },
      "execution_count": null,
      "outputs": [
        {
          "output_type": "stream",
          "name": "stdout",
          "text": [
            "True\n",
            "False\n",
            "False\n",
            "True\n"
          ]
        }
      ]
    },
    {
      "cell_type": "markdown",
      "source": [
        "## Conditional statements"
      ],
      "metadata": {
        "id": "vOZWvhA013ZK"
      }
    },
    {
      "cell_type": "code",
      "source": [
        "#simple if else\n",
        "a = int(input(\"Enter a number: \"))\n",
        "b = int(input(\"Enter a number: \"))\n",
        "\n",
        "if a > b:\n",
        "  print(\"first number is greater\")\n",
        "else:\n",
        "  print(\"2nd number is greater\")"
      ],
      "metadata": {
        "colab": {
          "base_uri": "https://localhost:8080/"
        },
        "id": "4g87KVH31_Ei",
        "outputId": "fb857ac2-260c-4478-924a-8f8178869709"
      },
      "execution_count": null,
      "outputs": [
        {
          "output_type": "stream",
          "name": "stdout",
          "text": [
            "Enter a number: 10\n",
            "Enter a number: 20\n",
            "2nd number is greater\n"
          ]
        }
      ]
    },
    {
      "cell_type": "code",
      "source": [
        "#if elif else\n",
        "\n",
        "a = int(input(\"Enter a number: \"))\n",
        "b = int(input(\"Enter a number: \"))\n",
        "c = int(input(\"Enter a number: \"))\n",
        "\n",
        "if b < a > c:\n",
        "  print(\"first number is greater\")\n",
        "elif a < b > c:\n",
        "  print(\"2nd number is greater\")\n",
        "else:\n",
        "  print(\"3rd number is greater\")"
      ],
      "metadata": {
        "colab": {
          "base_uri": "https://localhost:8080/"
        },
        "id": "gIne9EXR2lvE",
        "outputId": "9a233d61-1803-4e6e-ca0c-8f3e25bf7024"
      },
      "execution_count": null,
      "outputs": [
        {
          "output_type": "stream",
          "name": "stdout",
          "text": [
            "Enter a number: 10\n",
            "Enter a number: 20\n",
            "Enter a number: 30\n",
            "3rd number is greater\n"
          ]
        }
      ]
    },
    {
      "cell_type": "code",
      "source": [
        "#nested if\n",
        "a = int(input(\"Enter a number: \"))\n",
        "b = int(input(\"Enter a number: \"))\n",
        "c = int(input(\"Enter a number: \"))\n",
        "\n",
        "if a > b:\n",
        "  if a > c:\n",
        "    print(\"first number is greater\")\n",
        "  else:\n",
        "    print(\"3rd number is greater\")\n",
        "\n",
        "else:\n",
        "  if b > c:\n",
        "    print(\"2nd number is greater\")\n",
        "  else:\n",
        "    print(\"3rd number is greater\")"
      ],
      "metadata": {
        "colab": {
          "base_uri": "https://localhost:8080/"
        },
        "id": "G6d_283N3Tqs",
        "outputId": "f347f850-3b2e-422d-fc02-b21503b36194"
      },
      "execution_count": null,
      "outputs": [
        {
          "output_type": "stream",
          "name": "stdout",
          "text": [
            "Enter a number: 10\n",
            "Enter a number: 30\n",
            "Enter a number: 20\n",
            "2nd number is greater\n"
          ]
        }
      ]
    },
    {
      "cell_type": "markdown",
      "source": [
        "## For Loops"
      ],
      "metadata": {
        "id": "JkP4vv4b4ee2"
      }
    },
    {
      "cell_type": "code",
      "source": [
        "a = 5\n",
        "for i in range(a):\n",
        "  print(i)"
      ],
      "metadata": {
        "colab": {
          "base_uri": "https://localhost:8080/"
        },
        "id": "tqgCkHTc4iMa",
        "outputId": "61e97667-70dc-4bbf-f8fa-f48454c09d35"
      },
      "execution_count": null,
      "outputs": [
        {
          "output_type": "stream",
          "name": "stdout",
          "text": [
            "0\n",
            "1\n",
            "2\n",
            "3\n",
            "4\n"
          ]
        }
      ]
    },
    {
      "cell_type": "code",
      "source": [
        "for i in range(1,10):\n",
        "  print(i)"
      ],
      "metadata": {
        "colab": {
          "base_uri": "https://localhost:8080/"
        },
        "id": "yu4Y2tH35CDs",
        "outputId": "22160851-8f6d-4a05-ec37-85e32faa57cf"
      },
      "execution_count": null,
      "outputs": [
        {
          "output_type": "stream",
          "name": "stdout",
          "text": [
            "1\n",
            "2\n",
            "3\n",
            "4\n",
            "5\n",
            "6\n",
            "7\n",
            "8\n",
            "9\n"
          ]
        }
      ]
    },
    {
      "cell_type": "code",
      "source": [
        "for i in range(1,10,2):\n",
        "  print(i)"
      ],
      "metadata": {
        "colab": {
          "base_uri": "https://localhost:8080/"
        },
        "id": "F9LvlIpw5Nm-",
        "outputId": "7dee0472-5db3-4ac6-c508-f43eaeb156be"
      },
      "execution_count": null,
      "outputs": [
        {
          "output_type": "stream",
          "name": "stdout",
          "text": [
            "1\n",
            "3\n",
            "5\n",
            "7\n",
            "9\n"
          ]
        }
      ]
    },
    {
      "cell_type": "code",
      "source": [
        "for i in range(3):\n",
        "  laptop_price =int(input(\"Enter the price of laptop: \"))\n",
        "  print(laptop_price)"
      ],
      "metadata": {
        "colab": {
          "base_uri": "https://localhost:8080/"
        },
        "id": "dPSBXa__5eUO",
        "outputId": "a20400bf-fe19-4afc-e993-0ccadafa2d2c"
      },
      "execution_count": null,
      "outputs": [
        {
          "output_type": "stream",
          "name": "stdout",
          "text": [
            "Enter the price of laptop: 600000\n",
            "600000\n",
            "Enter the price of laptop: 2700000\n",
            "2700000\n",
            "Enter the price of laptop: 5000000\n",
            "5000000\n"
          ]
        }
      ]
    },
    {
      "cell_type": "code",
      "source": [
        "numbers = [50,100, 150, 200]\n",
        "for i in numbers:\n",
        "  i = i + 5\n",
        "  print(i)"
      ],
      "metadata": {
        "colab": {
          "base_uri": "https://localhost:8080/"
        },
        "id": "Qc2gc3qa6rJW",
        "outputId": "dec72f31-c0c4-4dba-ad57-baca5a1eca49"
      },
      "execution_count": null,
      "outputs": [
        {
          "output_type": "stream",
          "name": "stdout",
          "text": [
            "55\n",
            "105\n",
            "155\n",
            "205\n"
          ]
        }
      ]
    },
    {
      "cell_type": "markdown",
      "source": [
        "## While Loops"
      ],
      "metadata": {
        "id": "RqZQ46q07pKA"
      }
    },
    {
      "cell_type": "code",
      "source": [
        "i = 0\n",
        "while i < 10:\n",
        "  print(i)\n",
        "  i += 1"
      ],
      "metadata": {
        "colab": {
          "base_uri": "https://localhost:8080/"
        },
        "id": "6G5NUBXA7wL-",
        "outputId": "95891724-ccc4-4d1b-908f-c77a58a475db"
      },
      "execution_count": null,
      "outputs": [
        {
          "output_type": "stream",
          "name": "stdout",
          "text": [
            "0\n",
            "1\n",
            "2\n",
            "3\n",
            "4\n",
            "5\n",
            "6\n",
            "7\n",
            "8\n",
            "9\n"
          ]
        }
      ]
    },
    {
      "cell_type": "markdown",
      "source": [
        "## Functions"
      ],
      "metadata": {
        "id": "BfhTlK8y9DR9"
      }
    },
    {
      "cell_type": "code",
      "source": [
        "#Example (Factorial)\n",
        "def factorial_value(num):\n",
        "  factorial = 1\n",
        "  if num == 0:\n",
        "    return factorial\n",
        "  else:\n",
        "    for i in range(1, num + 1):\n",
        "      factorial = factorial * i\n",
        "    return factorial\n",
        "\n",
        "print(factorial_value(5))\n",
        "print(factorial_value(10))\n",
        "print(factorial_value(6))"
      ],
      "metadata": {
        "colab": {
          "base_uri": "https://localhost:8080/"
        },
        "id": "wOomSnQX9JMM",
        "outputId": "8dbaf0da-7311-47ff-e8f0-0fba6d976a5c"
      },
      "execution_count": null,
      "outputs": [
        {
          "output_type": "stream",
          "name": "stdout",
          "text": [
            "120\n",
            "3628800\n",
            "720\n"
          ]
        }
      ]
    },
    {
      "cell_type": "markdown",
      "source": [
        "# Python Libraries"
      ],
      "metadata": {
        "id": "hOHFj_eR-YJh"
      }
    },
    {
      "cell_type": "code",
      "source": [
        "#Numpy\n",
        "import numpy as np\n",
        "#Pandas\n",
        "import pandas as pd\n",
        "#Matplotlib\n",
        "import matplotlib.pyplot as plt\n",
        "#Seaborn\n",
        "import seaborn as sns"
      ],
      "metadata": {
        "id": "WppHJ2A3-e8r"
      },
      "execution_count": null,
      "outputs": []
    },
    {
      "cell_type": "markdown",
      "source": [
        "## NumPy"
      ],
      "metadata": {
        "id": "EXOmNJXaHmZx"
      }
    },
    {
      "cell_type": "code",
      "source": [
        "#NumPy array\n",
        "np_array = np.array([1,2,3,4,5])\n",
        "print(np_array)\n",
        "type(np_array)"
      ],
      "metadata": {
        "colab": {
          "base_uri": "https://localhost:8080/"
        },
        "id": "lB7Qu6iEIJPr",
        "outputId": "fffd9a08-8474-4f55-e006-3f6204ab35cf"
      },
      "execution_count": null,
      "outputs": [
        {
          "output_type": "stream",
          "name": "stdout",
          "text": [
            "[1 2 3 4 5]\n"
          ]
        },
        {
          "output_type": "execute_result",
          "data": {
            "text/plain": [
              "numpy.ndarray"
            ]
          },
          "metadata": {},
          "execution_count": 82
        }
      ]
    },
    {
      "cell_type": "code",
      "source": [
        "# 1 dim array\n",
        "a = np.array([1,2,3,4,5])\n",
        "print(a)\n",
        "a.shape"
      ],
      "metadata": {
        "colab": {
          "base_uri": "https://localhost:8080/"
        },
        "id": "bqdfqvMHIL6k",
        "outputId": "4274d96b-276b-45a5-cc98-193c7950e8b9"
      },
      "execution_count": null,
      "outputs": [
        {
          "output_type": "stream",
          "name": "stdout",
          "text": [
            "[1 2 3 4 5]\n"
          ]
        },
        {
          "output_type": "execute_result",
          "data": {
            "text/plain": [
              "(5,)"
            ]
          },
          "metadata": {},
          "execution_count": 83
        }
      ]
    },
    {
      "cell_type": "code",
      "source": [
        "b = np.array([[1,2,3],[4,5,6]])\n",
        "print(b)\n",
        "b.shape"
      ],
      "metadata": {
        "colab": {
          "base_uri": "https://localhost:8080/"
        },
        "id": "rvFbymZRIWRK",
        "outputId": "7a6a9547-e5cb-47b0-efb9-99d4b30b530d"
      },
      "execution_count": null,
      "outputs": [
        {
          "output_type": "stream",
          "name": "stdout",
          "text": [
            "[[1 2 3]\n",
            " [4 5 6]]\n"
          ]
        },
        {
          "output_type": "execute_result",
          "data": {
            "text/plain": [
              "(2, 3)"
            ]
          },
          "metadata": {},
          "execution_count": 85
        }
      ]
    },
    {
      "cell_type": "code",
      "source": [
        "c = np.array([[1,2,3],[4,5,6],[7,8,9]], dtype = float)\n",
        "print(c)\n",
        "c.shape"
      ],
      "metadata": {
        "colab": {
          "base_uri": "https://localhost:8080/"
        },
        "id": "0amzk_jpIlPj",
        "outputId": "9071ffc8-93f5-4287-cacf-972d585c9c25"
      },
      "execution_count": null,
      "outputs": [
        {
          "output_type": "stream",
          "name": "stdout",
          "text": [
            "[[1. 2. 3.]\n",
            " [4. 5. 6.]\n",
            " [7. 8. 9.]]\n"
          ]
        },
        {
          "output_type": "execute_result",
          "data": {
            "text/plain": [
              "(3, 3)"
            ]
          },
          "metadata": {},
          "execution_count": 89
        }
      ]
    },
    {
      "cell_type": "code",
      "source": [
        "#Numpy Array of 0s\n",
        "x = np.zeros((2,3))\n",
        "print(x)"
      ],
      "metadata": {
        "colab": {
          "base_uri": "https://localhost:8080/"
        },
        "id": "5loI-6gzJJa6",
        "outputId": "4129c0f3-d1ab-4a3c-ab34-bcbfc6772835"
      },
      "execution_count": null,
      "outputs": [
        {
          "output_type": "stream",
          "name": "stdout",
          "text": [
            "[[0. 0. 0.]\n",
            " [0. 0. 0.]]\n"
          ]
        }
      ]
    },
    {
      "cell_type": "code",
      "source": [
        "#numpy array of a particular value\n",
        "y = np.full((2,3),5)\n",
        "print(y)"
      ],
      "metadata": {
        "colab": {
          "base_uri": "https://localhost:8080/"
        },
        "id": "Nd5vxc4rJRsr",
        "outputId": "e29bcb17-2c6d-4627-82ac-37e7e0a66d85"
      },
      "execution_count": null,
      "outputs": [
        {
          "output_type": "stream",
          "name": "stdout",
          "text": [
            "[[5 5 5]\n",
            " [5 5 5]]\n"
          ]
        }
      ]
    },
    {
      "cell_type": "code",
      "source": [
        "#identity matrix\n",
        "a = np.eye(4)\n",
        "print(a)"
      ],
      "metadata": {
        "colab": {
          "base_uri": "https://localhost:8080/"
        },
        "id": "Al4Pcq22JfgL",
        "outputId": "b726d65c-0d78-4f1d-edc7-6185f6856d01"
      },
      "execution_count": null,
      "outputs": [
        {
          "output_type": "stream",
          "name": "stdout",
          "text": [
            "[[1. 0. 0. 0.]\n",
            " [0. 1. 0. 0.]\n",
            " [0. 0. 1. 0.]\n",
            " [0. 0. 0. 1.]]\n"
          ]
        }
      ]
    },
    {
      "cell_type": "code",
      "source": [
        "#numpy array with random values\n",
        "b = np.random.random((2,3))\n",
        "print(b)"
      ],
      "metadata": {
        "colab": {
          "base_uri": "https://localhost:8080/"
        },
        "id": "fUpx8rO5JscD",
        "outputId": "f9d9a6d6-8a34-42a8-e90e-092be9d34e28"
      },
      "execution_count": null,
      "outputs": [
        {
          "output_type": "stream",
          "name": "stdout",
          "text": [
            "[[0.45291576 0.59034791 0.37015523]\n",
            " [0.7454734  0.39326916 0.01874916]]\n"
          ]
        }
      ]
    },
    {
      "cell_type": "code",
      "source": [
        "#numpy array with random integer values\n",
        "c = np.random.randint(100, size = (5))\n",
        "print(c)"
      ],
      "metadata": {
        "colab": {
          "base_uri": "https://localhost:8080/"
        },
        "id": "SOOFwztHJ8PZ",
        "outputId": "6f1190ba-98cc-49a1-fa09-a9f2a597d09c"
      },
      "execution_count": null,
      "outputs": [
        {
          "output_type": "stream",
          "name": "stdout",
          "text": [
            "[50 24 83 61 93]\n"
          ]
        }
      ]
    },
    {
      "cell_type": "code",
      "source": [
        "#numpy array with random integer values within specified range\n",
        "d = np.random.randint(50,100, (3,5))\n",
        "print(d)"
      ],
      "metadata": {
        "colab": {
          "base_uri": "https://localhost:8080/"
        },
        "id": "uPh2ODbMKM9F",
        "outputId": "e0a7fc21-49fa-47e7-c882-cc250b3b2c41"
      },
      "execution_count": null,
      "outputs": [
        {
          "output_type": "stream",
          "name": "stdout",
          "text": [
            "[[80 97 73 62 70]\n",
            " [70 99 82 66 98]\n",
            " [96 71 94 73 89]]\n"
          ]
        }
      ]
    },
    {
      "cell_type": "code",
      "source": [
        "#array of evenly spaced values\n",
        "  #Specify the number of values required\n",
        "e = np.linspace(10,20,5)\n",
        "print(e)\n",
        "\n",
        "  #specify the steps\n",
        "f = np.arange(10,20,2)\n",
        "print(f)"
      ],
      "metadata": {
        "colab": {
          "base_uri": "https://localhost:8080/"
        },
        "id": "FHyO9bDCKZUG",
        "outputId": "4aa9c9b1-5ee9-4961-aa6c-6768a8a4b15e"
      },
      "execution_count": null,
      "outputs": [
        {
          "output_type": "stream",
          "name": "stdout",
          "text": [
            "[10.  12.5 15.  17.5 20. ]\n",
            "[10 12 14 16 18]\n"
          ]
        }
      ]
    },
    {
      "cell_type": "code",
      "source": [
        "#convert list to numpy array\n",
        "list1 = [10,20,30,40,50]\n",
        "np_array = np.array(list1)\n",
        "print(np_array)\n",
        "type(np_array)"
      ],
      "metadata": {
        "colab": {
          "base_uri": "https://localhost:8080/"
        },
        "id": "2QDud0aiLJdp",
        "outputId": "19301df4-d36a-4b60-d4be-1e6271bb59df"
      },
      "execution_count": null,
      "outputs": [
        {
          "output_type": "stream",
          "name": "stdout",
          "text": [
            "[10 20 30 40 50]\n"
          ]
        },
        {
          "output_type": "execute_result",
          "data": {
            "text/plain": [
              "numpy.ndarray"
            ]
          },
          "metadata": {},
          "execution_count": 101
        }
      ]
    },
    {
      "cell_type": "code",
      "source": [
        "#analyzing a numpy array\n",
        "c = np.random.randint(10,100, (3,5))\n",
        "print(c)\n",
        "#Number of Dimenshions\n",
        "print(\"Number of Dimenshions = \", c.ndim)\n",
        "#Number of Rows and Columns\n",
        "print(\"Number of Rows and Columns = \", c.shape)\n",
        "#Number of elements in an array\n",
        "print(\"Number of elements in array = \", c.size)\n",
        "#checking data types of values in array\n",
        "print(\"Data types of values in array = \", c.dtype)"
      ],
      "metadata": {
        "colab": {
          "base_uri": "https://localhost:8080/"
        },
        "id": "_wcrVcqCLsR5",
        "outputId": "354e13dd-318e-4c41-d25c-18df35457047"
      },
      "execution_count": null,
      "outputs": [
        {
          "output_type": "stream",
          "name": "stdout",
          "text": [
            "[[79 86 92 16 32]\n",
            " [87 24 46 40 25]\n",
            " [14 47 58 81 56]]\n",
            "Number of Dimenshions =  2\n",
            "Number of Rows and Columns =  (3, 5)\n",
            "Number of elements in array =  15\n",
            "Data types of values in array =  int64\n"
          ]
        }
      ]
    },
    {
      "cell_type": "code",
      "source": [
        "#mathematical operations on np array\n",
        "a = np.array([[1,2],[3,4]])\n",
        "b = np.array([[5,6],[7,8]])\n",
        "print(a)\n",
        "print(b)\n",
        "print(\"_____________________________________________________________________________________________________\")\n",
        "#addition\n",
        "print(\"Addition\")\n",
        "print(a + b)\n",
        "print(np.add(a,b))\n",
        "print(\"_____________________________________________________________________________________________________\")\n",
        "#subtraction\n",
        "print(\"Subtraction\")\n",
        "print(a-b)\n",
        "print(np.subtract(a,b))\n",
        "print(\"_____________________________________________________________________________________________________\")\n",
        "#multiplication\n",
        "print(\"Multiplication\")\n",
        "print(a*b)\n",
        "print(np.multiply(a,b))\n",
        "print(\"_____________________________________________________________________________________________________\")\n",
        "#division\n",
        "print(\"Division\")\n",
        "print(a/b)\n",
        "print(np.divide(a,b))"
      ],
      "metadata": {
        "colab": {
          "base_uri": "https://localhost:8080/"
        },
        "id": "yKsDXUXtMxlY",
        "outputId": "def01992-a8a5-4d19-be51-4664bd871eb9"
      },
      "execution_count": null,
      "outputs": [
        {
          "output_type": "stream",
          "name": "stdout",
          "text": [
            "[[1 2]\n",
            " [3 4]]\n",
            "[[5 6]\n",
            " [7 8]]\n",
            "_____________________________________________________________________________________________________\n",
            "Addition\n",
            "[[ 6  8]\n",
            " [10 12]]\n",
            "[[ 6  8]\n",
            " [10 12]]\n",
            "_____________________________________________________________________________________________________\n",
            "Subtraction\n",
            "[[-4 -4]\n",
            " [-4 -4]]\n",
            "[[-4 -4]\n",
            " [-4 -4]]\n",
            "_____________________________________________________________________________________________________\n",
            "Multiplication\n",
            "[[ 5 12]\n",
            " [21 32]]\n",
            "[[ 5 12]\n",
            " [21 32]]\n",
            "_____________________________________________________________________________________________________\n",
            "Division\n",
            "[[0.2        0.33333333]\n",
            " [0.42857143 0.5       ]]\n",
            "[[0.2        0.33333333]\n",
            " [0.42857143 0.5       ]]\n"
          ]
        }
      ]
    },
    {
      "cell_type": "code",
      "source": [
        "#array manipulation\n",
        "  #transpose\n",
        "a = np.random.randint(0,10,(3,5))\n",
        "print(a)\n",
        "print(                                         )\n",
        "trans = np.transpose(a)\n",
        "print(\"transpose of a is\")\n",
        "print(trans)\n",
        "print(                                         )\n",
        "print(trans.shape)"
      ],
      "metadata": {
        "colab": {
          "base_uri": "https://localhost:8080/"
        },
        "id": "aH3lTCUQOcSX",
        "outputId": "f02a6a92-4d3a-4a71-db55-cbcbce6ba7cb"
      },
      "execution_count": null,
      "outputs": [
        {
          "output_type": "stream",
          "name": "stdout",
          "text": [
            "[[2 7 2 6 3]\n",
            " [8 5 4 3 9]\n",
            " [1 4 7 4 3]]\n",
            "\n",
            "transpose of a is\n",
            "[[2 8 1]\n",
            " [7 5 4]\n",
            " [2 4 7]\n",
            " [6 3 4]\n",
            " [3 9 3]]\n",
            "\n",
            "(5, 3)\n"
          ]
        }
      ]
    },
    {
      "cell_type": "code",
      "source": [
        "#another way to transpose\n",
        "trans = a.T\n",
        "print(trans)\n",
        "print(                                         )\n",
        "print(trans.shape)"
      ],
      "metadata": {
        "colab": {
          "base_uri": "https://localhost:8080/"
        },
        "id": "11H_DE02Pvx_",
        "outputId": "18aa6f0d-fe17-40f4-f9d9-984f9a834fcf"
      },
      "execution_count": null,
      "outputs": [
        {
          "output_type": "stream",
          "name": "stdout",
          "text": [
            "[[2 8 1]\n",
            " [7 5 4]\n",
            " [2 4 7]\n",
            " [6 3 4]\n",
            " [3 9 3]]\n",
            "\n",
            "(5, 3)\n"
          ]
        }
      ]
    },
    {
      "cell_type": "code",
      "source": [
        "#reshaping array\n",
        "print(a)\n",
        "print(a.shape)\n",
        "b = a.reshape(5,3)\n",
        "print(b)\n",
        "print(b.shape)"
      ],
      "metadata": {
        "colab": {
          "base_uri": "https://localhost:8080/"
        },
        "id": "lbyOYNrsTcGd",
        "outputId": "9a5176c4-51bd-42cc-f48a-2a177f6f0458"
      },
      "execution_count": null,
      "outputs": [
        {
          "output_type": "stream",
          "name": "stdout",
          "text": [
            "[[2 7 2 6 3]\n",
            " [8 5 4 3 9]\n",
            " [1 4 7 4 3]]\n",
            "(3, 5)\n",
            "[[2 7 2]\n",
            " [6 3 8]\n",
            " [5 4 3]\n",
            " [9 1 4]\n",
            " [7 4 3]]\n",
            "(5, 3)\n"
          ]
        }
      ]
    }
  ]
}