{
  "nbformat": 4,
  "nbformat_minor": 0,
  "metadata": {
    "colab": {
      "provenance": [],
      "authorship_tag": "ABX9TyOKtAxiVUlWgmgfAHRYxJlU",
      "include_colab_link": true
    },
    "kernelspec": {
      "name": "python3",
      "display_name": "Python 3"
    },
    "language_info": {
      "name": "python"
    }
  },
  "cells": [
    {
      "cell_type": "markdown",
      "metadata": {
        "id": "view-in-github",
        "colab_type": "text"
      },
      "source": [
        "<a href=\"https://colab.research.google.com/github/MELRIAN1910/MachineLearning/blob/main/ML%20Models/Linear_Regression.ipynb\" target=\"_parent\"><img src=\"https://colab.research.google.com/assets/colab-badge.svg\" alt=\"Open In Colab\"/></a>"
      ]
    },
    {
      "cell_type": "markdown",
      "source": [
        "# Linear regression"
      ],
      "metadata": {
        "id": "YcmgdockjZjd"
      }
    },
    {
      "cell_type": "markdown",
      "source": [
        "## Building"
      ],
      "metadata": {
        "id": "L8ZrZdzF5woo"
      }
    },
    {
      "cell_type": "code",
      "source": [
        "#importing numpy library\n",
        "import numpy as np\n",
        "class LinearRegression():\n",
        "  #initiating parameters\n",
        "  def __init__(self,learning_rate,no_of_iterations):\n",
        "    self.learning_rate=learning_rate\n",
        "    self.no_of_iterations=no_of_iterations\n",
        "\n",
        "  def fit(self,X,Y):\n",
        "    #number of training examples and number of features\n",
        "    self.m,self.n=X.shape\n",
        "    #initiating the weight and bias\n",
        "    self.w=np.zeros(self.n)\n",
        "    self.b=0\n",
        "    self.X=X\n",
        "    self.Y=Y\n",
        "    #implementing gradient descent\n",
        "    for i in range(self.no_of_iterations):\n",
        "      self.update_weights()\n",
        "\n",
        "\n",
        "  def update_weights(self):\n",
        "    Y_prediction=self.predict(self.X)\n",
        "    #calculate gradients\n",
        "    dw = - (2 * (self.X.T).dot(self.Y - Y_prediction)) / self.m\n",
        "    db = - 2 * np.sum(self.Y - Y_prediction)/self.m\n",
        "    #updating the weights\n",
        "    self.w = self.w - self.learning_rate * dw\n",
        "    self.b = self.b - self.learning_rate * db\n",
        "\n",
        "  def predict(self,X):\n",
        "    return X.dot(self.w) + self.b"
      ],
      "metadata": {
        "id": "OQNIqaSipynt"
      },
      "execution_count": null,
      "outputs": []
    },
    {
      "cell_type": "markdown",
      "source": [
        "## Implementation"
      ],
      "metadata": {
        "id": "9SPndCwT54hY"
      }
    },
    {
      "cell_type": "code",
      "source": [
        "#importing dependencies\n",
        "import pandas as pd\n",
        "from sklearn.model_selection import train_test_split\n",
        "import matplotlib.pyplot as plt\n",
        "\n",
        "#data pre processing\n",
        "#loading data\n",
        "data_Name = pd.reaad.csv('path')\n",
        "\n",
        "#printing top and bottom 5 rows\n",
        "data_Name.head()\n",
        "data_Name.tail()\n",
        "\n",
        "#finding num of rows and columns\n",
        "data_Name.shape\n",
        "\n",
        "#checking missing values\n",
        "data_Name.isnull().sum()\n",
        "\n",
        "#splitting feature and target\n",
        "x = data_Name.iloc[:,:-1].values\n",
        "y = data_Name.iloc[:,1].values\n",
        "print(x)\n",
        "print(y)\n",
        "\n",
        "#splitting data into training and testing\n",
        "x_train,x_test,y_train,y_test = train_test_split(x,y,test_size=0.2,random_state=2)\n",
        "\n",
        "#Training the linear regression model\n",
        "model = LinearRegression(learning_rate=0.02,no_of_iterations=1000)\n",
        "model.fit(x_train,y_train)\n",
        "\n",
        "#printing the parameter values\n",
        "print('weight =', model.w[0])\n",
        "print('bias =', model.b)\n",
        "\n",
        "#predict the salary value for testing data\n",
        "test_data_prediction = model.predict(x_test)\n",
        "print(test_data_prediction)\n",
        "\n",
        "#visualizing the predicted values and actual values\n",
        "plt.scatter(x_test,y_test,color='red')\n",
        "plt.plot(x_test,test_data_prediction,color='blue')\n",
        "plt.xlabel('Years of experience')\n",
        "plt.ylabel('Salary')\n",
        "plt.title('Salary vs Experience')\n",
        "plt.show()"
      ],
      "metadata": {
        "id": "W0ZUSzdf6JVe"
      },
      "execution_count": null,
      "outputs": []
    },
    {
      "cell_type": "markdown",
      "source": [
        "## Implementation from exported models"
      ],
      "metadata": {
        "id": "LYgdQUUkCn4g"
      }
    },
    {
      "cell_type": "code",
      "source": [
        "import numpy as np\n",
        "import pandas as pd\n",
        "from sklearn.model_selection import train_test_split\n",
        "import matplotlib.pyplot as plt\n",
        "\n",
        "import Lin_Reg_model\n",
        "\n",
        "#data pre processing\n",
        "#loading data\n",
        "data_Name = pd.reaad.csv('path')\n",
        "\n",
        "#printing top and bottom 5 rows\n",
        "data_Name.head()\n",
        "data_Name.tail()\n",
        "\n",
        "#finding num of rows and columns\n",
        "data_Name.shape\n",
        "\n",
        "#checking missing values\n",
        "data_Name.isnull().sum()\n",
        "\n",
        "#splitting feature and target\n",
        "x = data_Name.iloc[:,:-1].values\n",
        "y = data_Name.iloc[:,1].values\n",
        "print(x)\n",
        "print(y)\n",
        "\n",
        "#splitting data into training and testing\n",
        "x_train,x_test,y_train,y_test = train_test_split(x,y,test_size=0.2,random_state=2)\n",
        "\n",
        "#Training the linear regression model\n",
        "model = Lin_Reg_model.Linear_Regression(learning_rate=0.01, no_of_iterations=1000)\n",
        "model.fit(x_train,y_train)\n",
        "\n",
        "#printing the parameter values\n",
        "print('weight =', model.w[0])\n",
        "print('bias =', model.b)\n",
        "\n",
        "#predict the salary value for testing data\n",
        "test_data_prediction = model.predict(x_test)\n",
        "print(test_data_prediction)\n",
        "\n",
        "#visualizing the predicted values and actual values\n",
        "plt.scatter(x_test,y_test,color='red')\n",
        "plt.plot(x_test,test_data_prediction,color='blue')\n",
        "plt.xlabel('Years of experience')\n",
        "plt.ylabel('Salary')\n",
        "plt.title('Salary vs Experience')\n",
        "plt.show()"
      ],
      "metadata": {
        "id": "DZ6xwj0YCuKc"
      },
      "execution_count": null,
      "outputs": []
    }
  ]
}