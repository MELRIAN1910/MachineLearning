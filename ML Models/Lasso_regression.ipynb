{
  "nbformat": 4,
  "nbformat_minor": 0,
  "metadata": {
    "colab": {
      "provenance": [],
      "authorship_tag": "ABX9TyO/9Vu1e2SvjEI5VfqxU8EO",
      "include_colab_link": true
    },
    "kernelspec": {
      "name": "python3",
      "display_name": "Python 3"
    },
    "language_info": {
      "name": "python"
    }
  },
  "cells": [
    {
      "cell_type": "markdown",
      "metadata": {
        "id": "view-in-github",
        "colab_type": "text"
      },
      "source": [
        "<a href=\"https://colab.research.google.com/github/MELRIAN1910/MachineLearning/blob/main/ML%20Models/Lasso_regression.ipynb\" target=\"_parent\"><img src=\"https://colab.research.google.com/assets/colab-badge.svg\" alt=\"Open In Colab\"/></a>"
      ]
    },
    {
      "cell_type": "markdown",
      "source": [
        "# Model Building"
      ],
      "metadata": {
        "id": "6PPD0LZZY0X-"
      }
    },
    {
      "cell_type": "code",
      "execution_count": null,
      "metadata": {
        "id": "oLKa-g1xYK10"
      },
      "outputs": [],
      "source": [
        "#Import dependencies\n",
        "import pandas as pd\n",
        "\n",
        "# Lasso Regression\n",
        "#Lasso regression class creation\n",
        "class Lasso_Regression:\n",
        "    #initiating the hyper parameters\n",
        "    def __init__(self, learning_rate, no_of_iterations, lambda_parameter):\n",
        "        self.learning_rate = learning_rate\n",
        "        self.no_of_iterations = no_of_iterations\n",
        "        self.lambda_parameter = lambda_parameter\n",
        "\n",
        "    #Fitting the dataset to Lasso Regression model\n",
        "    def fit(self, X, Y):\n",
        "        # m --> number of data points --> number of rows\n",
        "        # n --> number of input features --> number of columns\n",
        "        self.m, self.n = X.shape\n",
        "        self.w = np.zeros(self.n)\n",
        "        self.b = 0\n",
        "        self.X = X\n",
        "        self.Y = Y\n",
        "        #implementing gradient dscent algorithm\n",
        "        for i in range(self.no_of_iterations):\n",
        "            self.update_weights()\n",
        "\n",
        "    #Function for updating weights\n",
        "    def update_weights(self):\n",
        "        #Linear equation of the model\n",
        "        Y_prediction = self.predict(self.X)\n",
        "        #Calculating gradients\n",
        "        dw = np.zeros(self.n)\n",
        "        for i in range(self.n):\n",
        "          if self.w[i]>0:\n",
        "            dw[i] = (-(2*(self.X[:,i]).dot(self.Y - Y_prediction)) + self.lambda_parameter) / self.m\n",
        "          else:\n",
        "            dw[i] = (-(2*(self.X[:,i]).dot(self.Y - Y_prediction)) - self.lambda_parameter) / self.m\n",
        "\n",
        "        #gradient for bias\n",
        "        db = - 2 * np.sum(self.Y - Y_prediction)/self.m\n",
        "        #updating weight and bias\n",
        "        self.w = self.w - self.learning_rate * dw\n",
        "        self.b = self.b - self.learning_rate * db\n",
        "\n",
        "    #predicting the target variable\n",
        "    def predict(self, X):\n",
        "        return X.dot(self.w) + self.b"
      ]
    },
    {
      "cell_type": "markdown",
      "source": [
        "# Implementing Lasso Regression"
      ],
      "metadata": {
        "id": "6iPioVYgbAn7"
      }
    },
    {
      "cell_type": "code",
      "source": [
        "#Importing the dependencies\n",
        "import numpy as np\n",
        "import pandas as pd\n",
        "from sklearn.model_selection import train_test_split\n",
        "import matplotlib.pyplot as plt\n",
        "from sklearn import metrics\n",
        "\n",
        "#Data pre processing\n",
        "#loading data\n",
        "salary_data = pd.read_csv('path')\n",
        "salary_data.head()\n",
        "salary_data.tail()\n",
        "salary_data.shape\n",
        "salary_data.isnull().sum()\n",
        "salary_data.describe()\n",
        "\n",
        "#splitting feature and target\n",
        "features = salary_data.iloc[:,:-1].values\n",
        "target = salary_data.iloc[:,1].values\n",
        "print(features)\n",
        "print(target)\n",
        "\n",
        "#splitting data into training and testing\n",
        "X_train, X_test, Y_train, Y_test = train_test_split(features, target, test_size = 0.2, random_state = 2)\n",
        "\n",
        "model = Lasso_Regression(learning_rate = 0.02, no_of_iterations=1000,lambda_parameter=200)\n",
        "model.fit(X_train, Y_train)\n",
        "\n",
        "#predict value for test data\n",
        "test_data_prediction = model.predict(X_test)\n",
        "print(test_data_prediction)\n",
        "\n",
        "# R squared error\n",
        "score_1 = metrics.r2_score(Y_test, test_data_prediction)\n",
        "# Mean Absolute Error\n",
        "score_2 = metrics.mean_absolute_error(Y_test, test_data_prediction)\n",
        "print(\"R squared error : \", score_1)\n",
        "print('Mean Absolute Error : ', score_2)\n",
        "\n",
        "from sklearn.linear_model import Lasso\n",
        "sk_model = Lasso()\n",
        "sk_model.fit(X_train, Y_train)\n",
        "sk_test_data_prediction = sk_model.predict(X_test)\n",
        "\n",
        "# R squared error\n",
        "score_3 = metrics.r2_score(Y_test, sk_test_data_prediction)\n",
        "# Mean Absolute Error\n",
        "score_4 = metrics.mean_absolute_error(Y_test, sk_test_data_prediction)\n",
        "print(\"R squared error : \", score_3)\n",
        "print('Mean Absolute Error : ', score_4)\n"
      ],
      "metadata": {
        "id": "__ffwyvpbHo4"
      },
      "execution_count": null,
      "outputs": []
    }
  ]
}